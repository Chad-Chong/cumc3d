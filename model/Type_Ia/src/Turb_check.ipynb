{
 "cells": [
  {
   "cell_type": "code",
   "execution_count": 1,
   "metadata": {},
   "outputs": [],
   "source": [
    "import numpy as np\n",
    "import matplotlib.pyplot as plt"
   ]
  },
  {
   "cell_type": "code",
   "execution_count": null,
   "metadata": {},
   "outputs": [],
   "source": [
    "n = 200\n",
    "nx = 800\n",
    "nz = 400\n",
    "turb_F_list = []\n",
    "turb_eps_list = []\n",
    "turb_RT_list = []\n",
    "turb_comp_list = []\n",
    "turb_str_list = []\n",
    "turb_diff_list = []\n",
    "\n",
    "for i in range(n):\n",
    "    turb_F = np.array(np.loadtxt(\"/home/cnchong/Codes/cumc3d/model/Type_Ia/turb_F\"+str(i)+\".dat\"))\n",
    "    turb_F = turb_F.reshape(nx,nz)\n",
    "    turb_F_list.append(turb_F)\n",
    "\n",
    "    turb_eps = np.array(np.loadtxt(\"/home/cnchong/Codes/cumc3d/model/Type_Ia/turb_eps\"+str(i)+\".dat\"))\n",
    "    turb_eps = turb_eps.reshape(nx,nz)\n",
    "    turb_eps_list.append(turb_eps)\n",
    "\n",
    "    turb_RT = np.array(np.loadtxt(\"/home/cnchong/Codes/cumc3d/model/Type_Ia/turb_RT\"+str(i)+\".dat\"))\n",
    "    turb_RT = turb_RT.reshape(nx,nz)\n",
    "    turb_RT_list.append(turb_RT)\n",
    "\n",
    "    turb_comp = np.array(np.loadtxt(\"/home/cnchong/Codes/cumc3d/model/Type_Ia/turb_comp\"+str(i)+\".dat\"))\n",
    "    turb_comp = turb_comp.reshape(nx,nz)\n",
    "    turb_comp_list.append(turb_comp)\n",
    "\n",
    "    turb_str = np.array(np.loadtxt(\"/home/cnchong/Codes/cumc3d/model/Type_Ia/turb_str\"+str(i)+\".dat\"))\n",
    "    turb_str = turb_str.reshape(nx,nz)\n",
    "    turb_str_list.append(turb_str)\n",
    "\n",
    "    turb_diff = np.array(np.loadtxt(\"/home/cnchong/Codes/cumc3d/model/Type_Ia/turb_diff\"+str(i)+\".dat\"))\n",
    "    turb_diff = turb_diff.reshape(nx,nz)\n",
    "    turb_diff_list.append(turb_diff)\n",
    "\n"
   ]
  }
 ],
 "metadata": {
  "kernelspec": {
   "display_name": "Rotating_WD",
   "language": "python",
   "name": "python3"
  },
  "language_info": {
   "codemirror_mode": {
    "name": "ipython",
    "version": 3
   },
   "file_extension": ".py",
   "mimetype": "text/x-python",
   "name": "python",
   "nbconvert_exporter": "python",
   "pygments_lexer": "ipython3",
   "version": "3.12.5"
  }
 },
 "nbformat": 4,
 "nbformat_minor": 2
}
