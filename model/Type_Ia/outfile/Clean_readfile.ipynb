{
 "cells": [
  {
   "cell_type": "code",
   "execution_count": 1,
   "metadata": {},
   "outputs": [],
   "source": [
    "import h5py\n",
    "import numpy as np\n",
    "import matplotlib.pyplot as plt\n",
    "from celluloid import Camera\n",
    "import matplotlib.ticker as ticker\n",
    "import pandas as pd\n",
    "import helmeos\n",
    "from glob import glob"
   ]
  },
  {
   "cell_type": "code",
   "execution_count": 20,
   "metadata": {},
   "outputs": [
    {
     "name": "stdout",
     "output_type": "stream",
     "text": [
      "Number of files are 35\n"
     ]
    }
   ],
   "source": [
    "working_directory = '/home/cnchong/Codes/cumc3d/model/Type_Ia/outfile/'\n",
    "profile_directory = '/home/cnchong/Codes/cumc3d/model/Type_Ia/profile/'\n",
    "files = []\n",
    "for f in glob(working_directory+'/*.hdf5'):\n",
    "    files.append(f)\n",
    "n = len(files)-1\n",
    "\n",
    "gconst = 6.67430e-8\n",
    "clight = 2.99792458e10\n",
    "solar = 1.98847e33\n",
    "lencgs2code = (clight**2)/(solar*gconst)\n",
    "masscgs2code = (1.0e0/solar)\n",
    "rhocgs2code = (masscgs2code/lencgs2code**3)\n",
    "tcgs2code = (clight**3)/(solar*gconst)\n",
    "mu_0 = 1.25663706212e-6\n",
    "amp2code = (mu_0*1.0e5*masscgs2code*lencgs2code)**(0.5e0)/tcgs2code\n",
    "gauss2code = 1.0e-1*masscgs2code/amp2code/tcgs2code**2\n",
    "energycgs2code = (1.0E0/clight**2)\n",
    "me2 = 9.1093837015e-28*masscgs2code\n",
    "mb2 = 1.66053906660e-24*masscgs2code\n",
    "ye = 0.5e0\n",
    "h_bar = (1.054571817e-27)*(lencgs2code**2*masscgs2code/tcgs2code)\n",
    "amax = (me2**4)/(2.4e1*np.pi**2*h_bar**3)\n",
    "bmax = (mb2*me2**3)/(3.0e0*np.pi**2*h_bar**3*ye)\n",
    "print('Number of files are', n)"
   ]
  },
  {
   "cell_type": "code",
   "execution_count": 21,
   "metadata": {},
   "outputs": [],
   "source": [
    "def fmt(x, pos):\n",
    "    a, b = '{:.2e}'.format(x).split('e')\n",
    "    b = int(b)\n",
    "    return r'${} \\times 10^{{{}}}$'.format(a, b)"
   ]
  },
  {
   "cell_type": "code",
   "execution_count": 22,
   "metadata": {},
   "outputs": [],
   "source": [
    "# Read file\n",
    "filename = working_directory+\"/rkiter-\"+str(0)+\"-nm.hdf5\"\n",
    "f0 = h5py.File(filename, \"r\")\n",
    "f0.keys()\n",
    "primitive = f0['primitive'][:].T\n",
    "bfields = f0['bfield'][:].T\n",
    "initial_rho = primitive[0,1:-1,1,1:-1]\n",
    "\n",
    "# Face value\n",
    "x1f = np.loadtxt(profile_directory+'/hydro_x1_fgrid.dat').T\n",
    "x3f = np.loadtxt(profile_directory+'/hydro_x3_fgrid.dat').T\n",
    "# Center value\n",
    "x1f = x1f [3:-3]*lencgs2code # Remove BC\n",
    "x1c = (x1f[1:]+x1f[:-1])/2 #mid pt\n",
    "x3f = x3f[3:-3]*lencgs2code # Remove BC\n",
    "x3c = (x3f[1:]+x3f[:-1])/2 #mid pt\n",
    "\n",
    "xx,yy= np.meshgrid(x1c,x3c,indexing='ij')\n",
    "\n",
    "xxf, yyf = np.meshgrid(x1f,x3f,indexing='ij')\n",
    "\n",
    "dx = np.diff(x1f)[0]\n",
    "# dx2 = np.diff(xxf[:,0]**2)\n",
    "# dy = np.diff(yyf[0,:])\n",
    "# dxx2,dyy = np.meshgrid(dx2,dy,indexing='ij')\n",
    "# vol = dxx2*dyy*np.pi\n",
    "\n",
    "vol = (f0['vol'][:].T)[:,0,:]"
   ]
  },
  {
   "cell_type": "code",
   "execution_count": 23,
   "metadata": {},
   "outputs": [
    {
     "name": "stdout",
     "output_type": "stream",
     "text": [
      "1.3689625629877211\n"
     ]
    }
   ],
   "source": [
    "mass0 = np.sum(initial_rho*vol)\n",
    "print(mass0)"
   ]
  },
  {
   "cell_type": "code",
   "execution_count": 24,
   "metadata": {},
   "outputs": [
    {
     "name": "stdout",
     "output_type": "stream",
     "text": [
      "<KeysViewHDF5 ['abar', 'bfield', 'coordinate', 'cs', 'dbdt', 'dimension', 'epsilon', 'flame_state', 'nu_phi', 'phi', 'prim_a(irho)', 'primitive', 'temp', 'time', 'x-interface', 'y-interface', 'z-interface', 'zbar']>\n"
     ]
    }
   ],
   "source": [
    "filename = working_directory+\"/rkiter-\"+str(n)+\"-nm.hdf5\"\n",
    "f = h5py.File(filename, \"r\")\n",
    "primitive = f['primitive'][:]\n",
    "primitive = primitive.T\n",
    "print(f.keys())"
   ]
  },
  {
   "cell_type": "code",
   "execution_count": 25,
   "metadata": {},
   "outputs": [
    {
     "name": "stdout",
     "output_type": "stream",
     "text": [
      "1.368958445673439\n"
     ]
    }
   ],
   "source": [
    "dens = primitive[0,1:-1,1,1:-1]\n",
    "print(np.sum(dens*vol))"
   ]
  },
  {
   "cell_type": "code",
   "execution_count": 26,
   "metadata": {},
   "outputs": [
    {
     "data": {
      "text/plain": [
       "<matplotlib.image.AxesImage at 0x7f377ead1b20>"
      ]
     },
     "execution_count": 26,
     "metadata": {},
     "output_type": "execute_result"
    },
    {
     "data": {
      "image/png": "[encoded data removed]",
      "text/plain": [
       "<Figure size 640x480 with 1 Axes>"
      ]
     },
     "metadata": {},
     "output_type": "display_data"
    }
   ],
   "source": [
    "plt.imshow(np.log(primitive[0,1:-1,1,1:-1]))"
   ]
  }
 ],
 "metadata": {
  "kernelspec": {
   "display_name": "Rotating_WD",
   "language": "python",
   "name": "python3"
  },
  "language_info": {
   "codemirror_mode": {
    "name": "ipython",
    "version": 3
   },
   "file_extension": ".py",
   "mimetype": "text/x-python",
   "name": "python",
   "nbconvert_exporter": "python",
   "pygments_lexer": "ipython3",
   "version": "3.12.5"
  }
 },
 "nbformat": 4,
 "nbformat_minor": 2
}
