{
 "cells": [
  {
   "cell_type": "code",
   "execution_count": 1,
   "metadata": {},
   "outputs": [],
   "source": [
    "import h5py\n",
    "import numpy as np\n",
    "import matplotlib.pyplot as plt\n",
    "from celluloid import Camera\n",
    "import matplotlib.ticker as ticker\n",
    "import pandas as pd\n",
    "import helmeos\n",
    "from glob import glob\n",
    "import subprocess\n",
    "import os"
   ]
  },
  {
   "cell_type": "code",
   "execution_count": 2,
   "metadata": {},
   "outputs": [],
   "source": [
    "gconst = 6.67430e-8\n",
    "clight = 2.99792458e10\n",
    "solar = 1.98847e33\n",
    "lencgs2code = (clight**2)/(solar*gconst)\n",
    "masscgs2code = (1.0e0/solar)\n",
    "rhocgs2code = (masscgs2code/lencgs2code**3)\n",
    "tcgs2code = (clight**3)/(solar*gconst)\n",
    "energycgs2code = (1.0E0/clight**2)\n",
    "avo = 6.0221367e23\n",
    "amu = 1.6605402e-24\n",
    "ev2erg = 1.60217648740e-12\n",
    "mev2erg = ev2erg*1.0e6\n",
    "mev2gr = mev2erg/clight**2"
   ]
  },
  {
   "cell_type": "code",
   "execution_count": 3,
   "metadata": {},
   "outputs": [],
   "source": [
    "def filtering(array,atmo_indicies):\n",
    "    dummy = np.copy(array)\n",
    "    dummy[atmo_indicies] = 0\n",
    "    return dummy\n",
    "\n",
    "def helmeos_e(dens, temp, abar, zbar):\n",
    "    out = helmeos.eos_DT(dens, temp, abar, zbar)\n",
    "    return out['etot']"
   ]
  },
  {
   "cell_type": "code",
   "execution_count": 4,
   "metadata": {},
   "outputs": [],
   "source": [
    "# set the number of nucleons in the element\n",
    "aion = np.array([4,12,16,20,14,28,56])\n",
    "\n",
    "# set the number of protons in the element\n",
    "zion = np.array([2,6,8,10,12,14,28])\n",
    "\n",
    "# set the binding energy of the element\n",
    "bion = np.array([28.29603,92.16294,127.62093,160.64788,198.25790,236.53790,484.00300])\n",
    "\n",
    "# ! set the number of neutrons and mass\n",
    "nion = aion - zion\n",
    "\n",
    "\n",
    "# mass of each isotope\n",
    "mion = nion*1.67492721184e-24 + zion*1.67262163783e-24 - bion*mev2gr          \n",
    "\n",
    "# a common approximation   \n",
    "wion = aion       \n",
    "\n",
    "def azbar(xmass):\n",
    "    # molar abundances\n",
    "    ymass = xmass/wion\n",
    "\n",
    "    # mean molar mass\n",
    "    wbar  = 1.0e0/np.sum(ymass)\n",
    "\n",
    "    # mean number of nucleons\n",
    "    sum1  = np.sum(aion*ymass)\n",
    "    abar  = wbar * sum1\n",
    "\n",
    "    # mean charge\n",
    "    ye  = np.sum(zion*ymass)\n",
    "    zbar  = wbar * ye\n",
    "\n",
    "    return abar, zbar\n"
   ]
  },
  {
   "cell_type": "code",
   "execution_count": 5,
   "metadata": {},
   "outputs": [],
   "source": [
    "working_directory = '/home/cnchong/Codes/cumc3d/model/Type_Ia/outfile/10.4km/'\n",
    "profile_directory = '/home/cnchong/Codes/cumc3d/model/Type_Ia/profile/10.4km/'\n",
    "SNEC_DIR = '/home/cnchong/Codes/SNEC-1.01/profiles'\n",
    "files = []\n",
    "for f in glob(working_directory+'/*.hdf5'):\n",
    "    files.append(f)\n",
    "n = len(files)-1"
   ]
  },
  {
   "cell_type": "code",
   "execution_count": 7,
   "metadata": {},
   "outputs": [],
   "source": [
    "# Read file\n",
    "filename = working_directory+\"/rkiter-\"+str(0)+\"-nm.hdf5\"\n",
    "f0 = h5py.File(filename, \"r\")\n",
    "f0.keys()\n",
    "primitive = f0['primitive'][:].T\n",
    "atmo = f0['prim_a(irho)'][0]\n",
    "rho = primitive[0,1:-1,1,1:-1]\n",
    "atmo_indicies = rho>atmo\n",
    "\n",
    "\n",
    "# Face value\n",
    "x1f = np.loadtxt(profile_directory+'/hydro_x1_fgrid.dat').T\n",
    "x3f = np.loadtxt(profile_directory+'/hydro_x3_fgrid.dat').T\n",
    "# Center value\n",
    "x1f = x1f [3:-3]*lencgs2code # Remove BC\n",
    "x1c = (x1f[1:]+x1f[:-1])/2 #mid pt\n",
    "x3f = x3f[3:-3]*lencgs2code # Remove BC\n",
    "x3c = (x3f[1:]+x3f[:-1])/2 #mid pt\n",
    "\n",
    "xx,yy= np.meshgrid(x1c,x3c,indexing='ij')\n",
    "rr_grid = np.sqrt(xx**2+yy**2)\n",
    "\n",
    "xxf, yyf = np.meshgrid(x1f,x3f,indexing='ij')\n",
    "\n",
    "# dx = np.diff(x1f)[0] # 2dx = dr\n",
    "# dx2 = np.diff(xxf[:,0]**2)\n",
    "# dy = np.diff(yyf[0,:])\n",
    "# dxx2,dyy = np.meshgrid(dx2,dy,indexing='ij')\n",
    "# vol = dxx2*dyy*np.pi\n",
    "\n",
    "nr = 300\n",
    "dr = (x1f[-1]-x1f[0])/nr\n",
    "dx = dr/2 #r coordinates in the center\n",
    "vol = (f0['vol'][:].T)[:,0,:]\n",
    "r_arr = np.linspace(dx, x1f[-1]-dx, num=nr)\n",
    "\n",
    "initial_mass = np.sum((rho*vol)[atmo_indicies])"
   ]
  },
  {
   "cell_type": "code",
   "execution_count": 8,
   "metadata": {},
   "outputs": [
    {
     "data": {
      "text/plain": [
       "1.4035029709677"
      ]
     },
     "execution_count": 8,
     "metadata": {},
     "output_type": "execute_result"
    }
   ],
   "source": [
    "ind = rho/rhocgs2code<1e5\n",
    "rho[ind] = 1e5*rhocgs2code\n",
    "np.sum(rho*vol)"
   ]
  },
  {
   "cell_type": "code",
   "execution_count": 49,
   "metadata": {},
   "outputs": [
    {
     "data": {
      "text/plain": [
       "<matplotlib.lines.Line2D at 0x7fbfddf11b80>"
      ]
     },
     "execution_count": 49,
     "metadata": {},
     "output_type": "execute_result"
    },
    {
     "data": {
      "image/png": "[encoded data removed]",
      "text/plain": [
       "<Figure size 640x480 with 1 Axes>"
      ]
     },
     "metadata": {},
     "output_type": "display_data"
    }
   ],
   "source": [
    "plt.plot(x1c/lencgs2code*1e-5, rho[:,500]/rhocgs2code)\n",
    "plt.yscale('log')\n",
    "plt.axhline(y=1e5)"
   ]
  },
  {
   "cell_type": "code",
   "execution_count": 39,
   "metadata": {},
   "outputs": [
    {
     "data": {
      "text/plain": [
       "1814.131778820989"
      ]
     },
     "execution_count": 39,
     "metadata": {},
     "output_type": "execute_result"
    }
   ],
   "source": [
    "initial_radius = x1c[np.argwhere(rho[:,500]/rhocgs2code<1e5)[0][0]]/lencgs2code*1e-5 # in km\n",
    "initial_radius"
   ]
  },
  {
   "cell_type": "code",
   "execution_count": 7,
   "metadata": {},
   "outputs": [
    {
     "name": "stdout",
     "output_type": "stream",
     "text": [
      "Initial mass is 1.3603971406139834 solar mass\n"
     ]
    }
   ],
   "source": [
    "print('Initial mass is', initial_mass, 'solar mass')"
   ]
  },
  {
   "cell_type": "code",
   "execution_count": 8,
   "metadata": {},
   "outputs": [],
   "source": [
    "mass_list = []\n",
    "for i in range(n):\n",
    "    filename = working_directory+\"/rkiter-\"+str(i)+\"-nm.hdf5\"\n",
    "    f = h5py.File(filename, \"r\")\n",
    "    primitive = f['primitive'][:].T\n",
    "    atmo = f['prim_a(irho)'][0]\n",
    "    rho = primitive[0,1:-1,1,1:-1]\n",
    "    atmo_indicies = rho<=atmo\n",
    "    filtered_rho = filtering(rho, atmo_indicies)\n",
    "    mass_list.append(np.sum((filtered_rho*vol)[rr_grid<=(np.max(r_arr)+dx)]))\n",
    "mass_arr = np.array(mass_list)\n",
    "last = np.argwhere((mass_arr-initial_mass) < -1e-5)[0][0]"
   ]
  },
  {
   "cell_type": "code",
   "execution_count": 9,
   "metadata": {},
   "outputs": [
    {
     "data": {
      "text/plain": [
       "array([-2.22044605e-16, -2.93914317e-08, -3.82258689e-08, -6.34729711e-08,\n",
       "       -1.35482466e-07, -2.00982755e-07, -2.61730560e-07, -3.19625982e-07,\n",
       "       -3.86446479e-07, -4.70572097e-07, -5.61470874e-07, -5.59041149e-07,\n",
       "       -5.72084625e-07, -5.78250971e-07, -6.08610048e-07, -6.36588573e-07,\n",
       "       -5.68999421e-07, -5.44099804e-07, -4.61776104e-07, -3.58370961e-07,\n",
       "       -2.47180055e-07,  1.28159506e-07,  6.53398258e-07,  1.17244411e-06,\n",
       "        3.13039781e-06,  1.32567579e-05,  2.52310971e-05,  3.78823941e-05,\n",
       "        5.07265317e-05,  6.40886590e-05,  7.75489076e-05,  9.10835074e-05,\n",
       "        1.04781975e-04,  1.18609031e-04,  1.32558207e-04,  1.46507273e-04,\n",
       "        1.60614970e-04,  1.74534378e-04,  1.88307204e-04,  2.02375061e-04,\n",
       "        2.16174591e-04,  2.29842997e-04,  2.43656218e-04,  2.57295344e-04,\n",
       "        2.70715987e-04,  2.84141177e-04,  2.97464879e-04,  3.10707776e-04,\n",
       "        3.23516700e-04,  3.36272931e-04,  3.49220695e-04,  3.61860810e-04,\n",
       "        3.74158236e-04,  3.86319972e-04,  3.98068996e-04,  4.09633590e-04,\n",
       "        4.21030334e-04,  4.31134663e-04,  4.31240030e-04,  4.31413003e-04,\n",
       "        4.35244315e-04,  4.41688158e-04,  4.47765359e-04,  4.53194231e-04,\n",
       "        4.70092841e-04,  5.03311759e-04,  5.23734305e-04,  5.32710518e-04,\n",
       "        5.41732041e-04,  5.50494071e-04,  5.58667495e-04,  5.66436908e-04,\n",
       "        5.73409528e-04,  5.80527338e-04,  5.86977738e-04,  5.93045739e-04,\n",
       "        5.98708104e-04,  6.00902378e-04,  6.04061086e-04,  6.25563553e-04,\n",
       "        6.59014952e-04,  6.93585498e-04,  7.29367779e-04,  7.68531854e-04,\n",
       "        8.12935458e-04,  8.24625522e-04,  7.26259973e-04,  4.04766009e-04,\n",
       "       -2.22916814e-04, -2.47708723e-03, -7.28079609e-03, -1.40919423e-02,\n",
       "       -2.37976981e-02, -3.65934437e-02, -5.16208075e-02, -6.90726170e-02,\n",
       "       -8.87926318e-02, -1.09920348e-01, -1.31541276e-01])"
      ]
     },
     "execution_count": 9,
     "metadata": {},
     "output_type": "execute_result"
    }
   ],
   "source": [
    "mass_arr-initial_mass"
   ]
  },
  {
   "cell_type": "code",
   "execution_count": 10,
   "metadata": {},
   "outputs": [
    {
     "data": {
      "text/plain": [
       "<matplotlib.lines.Line2D at 0x7f5ba12de330>"
      ]
     },
     "execution_count": 10,
     "metadata": {},
     "output_type": "execute_result"
    },
    {
     "data": {
      "image/png": "[encoded data removed]",
      "text/plain": [
       "<Figure size 640x480 with 1 Axes>"
      ]
     },
     "metadata": {},
     "output_type": "display_data"
    }
   ],
   "source": [
    "plt.plot(mass_arr)\n",
    "plt.axvline(x=last, color='red',linestyle='--')\n",
    "plt.axhline(y=initial_mass, color = 'black')"
   ]
  },
  {
   "cell_type": "code",
   "execution_count": 11,
   "metadata": {},
   "outputs": [
    {
     "name": "stdout",
     "output_type": "stream",
     "text": [
      "Simulation time until mass is not conserved within 1D spherical grid is 0.8965836006927789 seconds\n"
     ]
    }
   ],
   "source": [
    "# Read file\n",
    "filename = working_directory+\"/rkiter-\"+str(last)+\"-nm.hdf5\"\n",
    "f = h5py.File(filename, \"r\")\n",
    "f.keys()\n",
    "print('Simulation time until mass is not conserved within 1D spherical grid is',str(f['time'][0]/tcgs2code),'seconds')"
   ]
  },
  {
   "cell_type": "code",
   "execution_count": 12,
   "metadata": {},
   "outputs": [],
   "source": [
    "primitive = f['primitive'][:].T\n",
    "eps = (f['epsilon'][:].T)[1:-1,1,1:-1]\n",
    "abar = (f['abar'][:].T)[1:-1,1,1:-1]\n",
    "zbar = (f['zbar'][:].T)[1:-1,1,1:-1]\n",
    "atmo = f['prim_a(irho)'][0]\n",
    "temp = (f['temp'][:].T)[1:-1,1,1:-1]\n",
    "\n",
    "rho = primitive[0,1:-1,1,1:-1]\n",
    "atmo_indicies = rho<=atmo\n",
    "v1 = primitive[1,1:-1,1,1:-1]\n",
    "v2 = primitive[2,1:-1,1,1:-1]\n",
    "v3 = primitive[3,1:-1,1,1:-1]\n",
    "Ye = primitive[13,1:-1,1,1:-1]\n",
    "\n",
    "Den_he = primitive[6,1:-1,1,1:-1]*rho\n",
    "Den_c = primitive[7,1:-1,1,1:-1]*rho\n",
    "Den_o = primitive[8,1:-1,1,1:-1]*rho\n",
    "Den_ne = primitive[9,1:-1,1,1:-1]*rho\n",
    "Den_mg = primitive[10,1:-1,1,1:-1]*rho\n",
    "Den_si = primitive[11,1:-1,1,1:-1]*rho\n",
    "Den_ni = primitive[12,1:-1,1,1:-1]*rho\n",
    "\n",
    "#Number density of nucleons / baryon and electron\n",
    "Num_he = primitive[6,1:-1,1,1:-1]*rho/rhocgs2code/mion[0]*avo*zion[0]\n",
    "Num_c = primitive[7,1:-1,1,1:-1]*rho/rhocgs2code/mion[1]*avo*zion[1]\n",
    "Num_o = primitive[8,1:-1,1,1:-1]*rho/rhocgs2code/mion[2]*avo*zion[2]\n",
    "Num_ne = primitive[9,1:-1,1,1:-1]*rho/rhocgs2code/mion[3]*avo*zion[3]\n",
    "Num_mg = primitive[10,1:-1,1,1:-1]*rho/rhocgs2code/mion[4]*avo*zion[4]\n",
    "Num_si = primitive[11,1:-1,1,1:-1]*rho/rhocgs2code/mion[5]*avo*zion[5]\n",
    "Num_ni = primitive[12,1:-1,1,1:-1]*rho/rhocgs2code/mion[6]*avo*zion[6]\n",
    "Num_n = Num_he + Num_c + Num_o + Num_ne + Num_mg + Num_si + Num_ni\n",
    "Num_e = Num_n * (np.minimum(Ye*abar, zbar)/abar)\n"
   ]
  },
  {
   "cell_type": "code",
   "execution_count": 13,
   "metadata": {},
   "outputs": [],
   "source": [
    "masshell_r = []\n",
    "mass_r = []\n",
    "ke_r = []\n",
    "dens_r = []\n",
    "vel_r = []\n",
    "inte_r = []\n",
    "abar_r = []\n",
    "zbar_r = []\n",
    "Ye_r = []\n",
    "Tguess_r = []\n",
    "xiso_r = []\n",
    "r_vol_r = []\n",
    "\n",
    "for r in r_arr:\n",
    "    filtered_rho = filtering(rho, atmo_indicies)\n",
    "    r_indicies = np.logical_and(r-dx<=rr_grid, rr_grid<r+dx)\n",
    "    inner_r_indicies = (rr_grid <= (r-dx))\n",
    "    r_vol = 4*np.pi*((r+dr)**3-(r-dr)**3)/3\n",
    "\n",
    "    mass = np.sum((filtered_rho*vol)[r_indicies])\n",
    "    mass_coord = np.sum((filtered_rho*vol)[inner_r_indicies])\n",
    "    ke = 0.5 * np.sum( (filtered_rho*vol*(v1**2+v3**2) )[r_indicies] )\n",
    "    inte = np.sum((filtered_rho*vol*eps )[r_indicies] )/mass #energy per mass in this shell\n",
    "    dens = mass/r_vol\n",
    "\n",
    "    # Xiso\n",
    "    filtered = filtering(Den_he, atmo_indicies)\n",
    "    xiso_he = np.sum((filtered*vol)[r_indicies])/r_vol/dens\n",
    "\n",
    "    filtered = filtering(Den_c, atmo_indicies)\n",
    "    xiso_c = np.sum((filtered*vol)[r_indicies])/r_vol/dens\n",
    "    \n",
    "    filtered = filtering(Den_o, atmo_indicies)\n",
    "    xiso_o = np.sum((filtered*vol)[r_indicies])/r_vol/dens\n",
    "\n",
    "    filtered = filtering(Den_ne, atmo_indicies)\n",
    "    xiso_ne = np.sum((filtered*vol)[r_indicies])/r_vol/dens\n",
    "\n",
    "    filtered = filtering(Den_mg, atmo_indicies)\n",
    "    xiso_mg = np.sum((filtered*vol)[r_indicies])/r_vol/dens\n",
    "\n",
    "    filtered = filtering(Den_si, atmo_indicies)\n",
    "    xiso_si = np.sum((filtered*vol)[r_indicies])/r_vol/dens\n",
    "\n",
    "    filtered = filtering(Den_ni, atmo_indicies)\n",
    "    xiso_ni = np.sum((filtered*vol)[r_indicies])/r_vol/dens\n",
    "\n",
    "    xiso = np.array([xiso_he, xiso_c, xiso_o, xiso_ne, xiso_mg, xiso_si, xiso_ni])\n",
    "\n",
    "    # Ye\n",
    "    filtered = filtering(Num_e, atmo_indicies)\n",
    "    Ne_r = np.sum((filtered*vol)[r_indicies])\n",
    "\n",
    "    filtered = filtering(Num_n, atmo_indicies)\n",
    "    Ne_n = np.sum((filtered*vol)[r_indicies])\n",
    "\n",
    "    Ye = Ne_r/Ne_n\n",
    "\n",
    "    # Abar and Zbar\n",
    "\n",
    "    abar, zbar = azbar(xiso)\n",
    "\n",
    "    zbar = np.minimum(zbar, Ye*abar)\n",
    "\n",
    "    # Guess Temperature\n",
    "\n",
    "    min_index =  np.argmin(np.abs((filtered_rho-dens)[r_indicies]))\n",
    "\n",
    "\n",
    "    masshell_r.append(mass/masscgs2code)\n",
    "    mass_r.append(mass_coord/masscgs2code)\n",
    "    dens_r.append(dens/rhocgs2code)\n",
    "    vel_r.append(np.sqrt(2*ke/mass)*clight)\n",
    "    ke_r.append(ke/masscgs2code*clight**2)\n",
    "    inte_r.append(inte/energycgs2code)\n",
    "    abar_r.append(abar)\n",
    "    zbar_r.append(zbar)\n",
    "    Ye_r.append(Ye)\n",
    "    xiso_r.append(xiso)\n",
    "    Tguess_r.append(temp[r_indicies][min_index]*1e9)\n",
    "    r_vol_r.append(r_vol)\n",
    "\n",
    "masshell_r = np.array(masshell_r)\n",
    "mass_r = np.array(mass_r)\n",
    "ke_r = np.array(ke_r)\n",
    "dens_r = np.array(dens_r)\n",
    "vel_r = np.array(vel_r)\n",
    "inte_r = np.array(inte_r)\n",
    "abar_r = np.array(abar_r)\n",
    "zbar_r = np.array(zbar_r)\n",
    "Ye_r = np.array(Ye_r)\n",
    "Tguess_r = np.array(Tguess_r)\n",
    "xiso_r = np.array(xiso_r).T\n",
    "r_vol_r = np.array(r_vol_r)\n",
    "\n",
    "all = np.array((inte_r,dens_r,abar_r,zbar_r,Ye_r,Tguess_r))\n"
   ]
  },
  {
   "cell_type": "code",
   "execution_count": 14,
   "metadata": {},
   "outputs": [],
   "source": [
    "output_n = np.zeros(1, dtype='int')\n",
    "output_n[0] = len(r_arr)\n",
    "np.savetxt('/home/cnchong/Codes/cumc3d/model/Type_Ia/outfile/Inter_SNEC.dat', output_n, fmt='%i')\n",
    "f = open('/home/cnchong/Codes/cumc3d/model/Type_Ia/outfile/Inter_SNEC.dat', 'a')\n",
    "np.savetxt(f, all)\n",
    "f.close()"
   ]
  },
  {
   "cell_type": "code",
   "execution_count": 15,
   "metadata": {},
   "outputs": [
    {
     "data": {
      "text/plain": [
       "CompletedProcess(args='/home/cnchong/Codes/cumc3d/model/Type_Ia/outfile/Invert_Helm.out', returncode=0)"
      ]
     },
     "execution_count": 15,
     "metadata": {},
     "output_type": "execute_result"
    }
   ],
   "source": [
    "subprocess.run('/home/cnchong/Codes/cumc3d/model/Type_Ia/outfile/Invert_Helm.out')"
   ]
  },
  {
   "cell_type": "code",
   "execution_count": 16,
   "metadata": {},
   "outputs": [],
   "source": [
    "T_r = np.loadtxt('/home/cnchong/Codes/cumc3d/model/Type_Ia/outfile/Python_SNEC.dat')\n",
    "# default = helmeos.HelmTable()\n",
    "# Tbyhelm = default.eos_invert(dens_r,abar_r,abar_r, inte_r,'etot')"
   ]
  },
  {
   "cell_type": "code",
   "execution_count": 17,
   "metadata": {},
   "outputs": [
    {
     "name": "stdout",
     "output_type": "stream",
     "text": [
      "Initializing Helmholtz EOS table /home/cnchong/miniconda3/envs/Rotating_WD/lib/python3.12/site-packages/helmeos/helm_table.dat\n"
     ]
    },
    {
     "data": {
      "text/plain": [
       "<matplotlib.legend.Legend at 0x7f5ba132ecc0>"
      ]
     },
     "execution_count": 17,
     "metadata": {},
     "output_type": "execute_result"
    },
    {
     "data": {
      "image/png": "[encoded data removed]",
      "text/plain": [
       "<Figure size 640x480 with 1 Axes>"
      ]
     },
     "metadata": {},
     "output_type": "display_data"
    }
   ],
   "source": [
    "plt.plot(r_arr/lencgs2code/100000, inte_r, label='Input')\n",
    "plt.plot(r_arr/lencgs2code/100000,helmeos_e(dens_r,T_r,abar_r,zbar_r), color='black', linestyle='dashed',label='Reconstructed')\n",
    "plt.yscale('log')\n",
    "plt.ylabel(r'$\\epsilon$ (Erg/K)')\n",
    "plt.xlabel('Radius (km)')\n",
    "plt.title(r'$\\epsilon$ against radius')\n",
    "plt.legend()"
   ]
  },
  {
   "cell_type": "code",
   "execution_count": 18,
   "metadata": {},
   "outputs": [
    {
     "name": "stderr",
     "output_type": "stream",
     "text": [
      "/tmp/ipykernel_295123/2022223603.py:2: DeprecationWarning: Conversion of an array with ndim > 0 to a scalar is deprecated, and will error in future. Ensure you extract a single element from your array before performing this operation. (Deprecated NumPy 1.25.)\n",
      "  indicies = np.arange(output_n)+1\n"
     ]
    }
   ],
   "source": [
    "file_name = 'MHD_TypeIa'\n",
    "indicies = np.arange(output_n)+1\n",
    "omega = np.zeros(output_n)\n",
    "SNEC_arr = np.array((indicies, mass_r, r_arr/lencgs2code, T_r, dens_r, vel_r, Ye_r, omega))\n",
    "fmt_arr = ['%i', '%1.18e', '%1.18e', '%1.18e', '%1.18e', '%1.18e', '%1.18e', '%1.18e']\n",
    "np.savetxt(working_directory+'/'+file_name+'.short', output_n, fmt='%i')\n",
    "np.savetxt(SNEC_DIR+'/'+file_name+'.short', output_n, fmt='%i')\n",
    "f = open(working_directory+'/'+file_name+'.short', 'a')\n",
    "g = open(SNEC_DIR+'/'+file_name+'.short', 'a')\n",
    "np.savetxt(f, SNEC_arr.T,fmt=fmt_arr, delimiter='     ')\n",
    "np.savetxt(g, SNEC_arr.T,fmt=fmt_arr, delimiter='     ')\n",
    "f.close()\n",
    "g.close()\n",
    "os.remove('/home/cnchong/Codes/cumc3d/model/Type_Ia/outfile/Inter_SNEC.dat')\n",
    "os.remove('/home/cnchong/Codes/cumc3d/model/Type_Ia/outfile/Python_SNEC.dat')"
   ]
  },
  {
   "cell_type": "code",
   "execution_count": 19,
   "metadata": {},
   "outputs": [],
   "source": [
    "f = open(working_directory+'/'+file_name+'.iso.dat', 'w')\n",
    "g = open(SNEC_DIR+'/'+file_name+'.iso.dat', 'w')\n",
    "comp_profile_n = np.array((output_n[0], 7))\n",
    "\n",
    "for i in comp_profile_n:\n",
    "    f.write(str(i)+'     ')\n",
    "    g.write(str(i)+'     ')\n",
    "f.write(\"\\n\")\n",
    "g.write(\"\\n\")\n",
    "\n",
    "for i in aion:\n",
    "    f.write(str(i)+'     ')\n",
    "    g.write(str(i)+'     ')\n",
    "f.write(\"\\n\")\n",
    "g.write(\"\\n\")\n",
    "\n",
    "for i in zion:\n",
    "    f.write(str(i)+'     ')\n",
    "    g.write(str(i)+'     ')\n",
    "f.write(\"\\n\")\n",
    "g.write(\"\\n\")\n",
    "\n",
    "SNEC_profile_arr = np.array((mass_r, r_arr/lencgs2code, xiso_r[0],xiso_r[1],xiso_r[2],xiso_r[3],xiso_r[4],xiso_r[5],xiso_r[6]))\n",
    "np.savetxt(f, SNEC_profile_arr.T, delimiter='     ')\n",
    "np.savetxt(g, SNEC_profile_arr.T, delimiter='     ')\n",
    "f.close()\n",
    "g.close()"
   ]
  },
  {
   "cell_type": "code",
   "execution_count": 20,
   "metadata": {},
   "outputs": [],
   "source": [
    "sum = 0\n",
    "for i in range(7):\n",
    "    sum += np.sum((xiso_r[6,:]*dens_r*rhocgs2code*r_vol_r))"
   ]
  },
  {
   "cell_type": "code",
   "execution_count": 21,
   "metadata": {},
   "outputs": [
    {
     "name": "stdout",
     "output_type": "stream",
     "text": [
      "Mass of He is 0.026268688205143723 solar mass\n"
     ]
    }
   ],
   "source": [
    "print('Mass of He is',np.sum((xiso_r[0,:]*dens_r*rhocgs2code*r_vol_r)), 'solar mass')"
   ]
  },
  {
   "cell_type": "code",
   "execution_count": 22,
   "metadata": {},
   "outputs": [
    {
     "name": "stdout",
     "output_type": "stream",
     "text": [
      "Mass of Ni is 0.7686419718481783 solar mass\n",
      "Mass coordinate of boundary Ni is 1.3600724768859356 solar mass\n"
     ]
    }
   ],
   "source": [
    "print('Mass of Ni is',np.sum((xiso_r[6,:]*dens_r*rhocgs2code*r_vol_r)), 'solar mass')\n",
    "print('Mass coordinate of boundary Ni is', mass_r[-1]*masscgs2code, 'solar mass')"
   ]
  },
  {
   "cell_type": "code",
   "execution_count": 23,
   "metadata": {},
   "outputs": [
    {
     "data": {
      "text/plain": [
       "[<matplotlib.lines.Line2D at 0x7f5b99e38d70>]"
      ]
     },
     "execution_count": 23,
     "metadata": {},
     "output_type": "execute_result"
    },
    {
     "data": {
      "image/png": "[encoded data removed]",
      "text/plain": [
       "<Figure size 640x480 with 1 Axes>"
      ]
     },
     "metadata": {},
     "output_type": "display_data"
    }
   ],
   "source": [
    "plt.plot(dens_r)"
   ]
  }
 ],
 "metadata": {
  "kernelspec": {
   "display_name": "Rotating_WD",
   "language": "python",
   "name": "python3"
  },
  "language_info": {
   "codemirror_mode": {
    "name": "ipython",
    "version": 3
   },
   "file_extension": ".py",
   "mimetype": "text/x-python",
   "name": "python",
   "nbconvert_exporter": "python",
   "pygments_lexer": "ipython3",
   "version": "3.12.5"
  }
 },
 "nbformat": 4,
 "nbformat_minor": 2
}
