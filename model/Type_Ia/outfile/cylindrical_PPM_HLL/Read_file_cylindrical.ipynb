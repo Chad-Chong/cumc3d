{
 "cells": [
  {
   "cell_type": "code",
   "execution_count": 39,
   "id": "81b710c8-c39e-4482-860c-e49b5f7ce53f",
   "metadata": {},
   "outputs": [],
   "source": [
    "import h5py\n",
    "import os\n",
    "import numpy as np\n",
    "import matplotlib.pyplot as plt\n",
    "from celluloid import Camera\n",
    "import matplotlib.ticker as ticker\n",
    "import pandas as pd"
   ]
  },
  {
   "cell_type": "code",
   "execution_count": 40,
   "id": "6f8d349e",
   "metadata": {},
   "outputs": [],
   "source": [
    "def fmt(x, pos):\n",
    "    a, b = '{:.2e}'.format(x).split('e')\n",
    "    b = int(b)\n",
    "    return r'${} \\times 10^{{{}}}$'.format(a, b)"
   ]
  },
  {
   "cell_type": "code",
   "execution_count": 41,
   "id": "b791dc28",
   "metadata": {},
   "outputs": [],
   "source": [
    "gconst = 6.67430e-8\n",
    "clight = 2.99792458e10\n",
    "solar = 1.98847e33\n",
    "lencgs2code = (clight**2)/(solar*gconst)\n",
    "masscgs2code = (1.0e0/solar)\n",
    "rhocgs2code = (masscgs2code/lencgs2code**3)\n",
    "tcgs2code = (clight**3)/(solar*gconst)\n",
    "energycgs2code = (1.0E0/clight**2)\n",
    "me2 = 9.1093837015e-28*masscgs2code\n",
    "mb2 = 1.66053906660e-24*masscgs2code\n",
    "ye = 0.5e0\n",
    "h_bar = (1.054571817e-27)*(lencgs2code**2*masscgs2code/tcgs2code)\n",
    "amax = (me2**4)/(2.4e1*np.pi**2*h_bar**3)\n",
    "bmax = (mb2*me2**3)/(3.0e0*np.pi**2*h_bar**3*ye)"
   ]
  },
  {
   "cell_type": "code",
   "execution_count": 42,
   "id": "c2ca70cd",
   "metadata": {},
   "outputs": [],
   "source": [
    "def xe(rho):\n",
    "    return (rho/bmax)**(1.0e0/3.0e0)\n",
    "def dpdx(x):\n",
    "    return 8.0e0*x**4/np.sqrt(x**2 + 1.0e0)\n",
    "def cs(rho):\n",
    "    return np.sqrt(amax*dpdx(xe(rho))/3.0e0/(rho**2*bmax)**(1.0e0/3.0e0))"
   ]
  },
  {
   "cell_type": "code",
   "execution_count": 43,
   "id": "e2e3d37b",
   "metadata": {},
   "outputs": [],
   "source": [
    "# Face value\n",
    "x1f = np.loadtxt('/home/cnchong/Codes/cumc3d/model/Type_Ia/profile/hydro_x1_fgrid.dat').T\n",
    "x3f = np.loadtxt('/home/cnchong/Codes/cumc3d/model/Type_Ia/profile/hydro_x3_fgrid.dat').T\n",
    "# Center value\n",
    "x1f = x1f [3:-3]*lencgs2code # Remove BC\n",
    "x1c = (x1f[1:]+x1f[:-1])/2 #mid pt\n",
    "x3f = x3f[3:-3]*lencgs2code # Remove BC\n",
    "x3c = (x3f[1:]+x3f[:-1])/2 #mid pt\n",
    "\n",
    "xx,yy= np.meshgrid(x1c,x3c,indexing='ij')\n",
    "\n",
    "xxf, yyf = np.meshgrid(x1f,x3f,indexing='ij')"
   ]
  },
  {
   "cell_type": "code",
   "execution_count": 44,
   "id": "a3e6be99",
   "metadata": {},
   "outputs": [],
   "source": [
    "# Initial Values\n",
    "irho = np.loadtxt('/home/cnchong/Codes/cumc3d/model/Type_Ia/profile/hydro_rho.dat').T*rhocgs2code\n",
    "ieps = np.loadtxt('/home/cnchong/Codes/cumc3d/model/Type_Ia/profile/hydro_eps.dat').T*energycgs2code\n",
    "ivz = np.loadtxt('/home/cnchong/Codes/cumc3d/model/Type_Ia/profile/hydro_vphi.dat').T\n",
    "iHe4 = np.loadtxt('/home/cnchong/Codes/cumc3d/model/Type_Ia/profile/Helm_Xhe4.dat').T\n",
    "iC12 = np.loadtxt('/home/cnchong/Codes/cumc3d/model/Type_Ia/profile/Helm_Xc12.dat').T\n",
    "iO16 = np.loadtxt('/home/cnchong/Codes/cumc3d/model/Type_Ia/profile/Helm_Xo16.dat').T\n",
    "iNe20 = np.loadtxt('/home/cnchong/Codes/cumc3d/model/Type_Ia/profile/Helm_Xne20.dat').T\n",
    "iMg24 = np.loadtxt('/home/cnchong/Codes/cumc3d/model/Type_Ia/profile/Helm_Xmg24.dat').T\n",
    "iSi28 = np.loadtxt('/home/cnchong/Codes/cumc3d/model/Type_Ia/profile/Helm_Xsi28.dat').T\n",
    "iNi56 = np.loadtxt('/home/cnchong/Codes/cumc3d/model/Type_Ia/profile/Helm_Xni56.dat').T"
   ]
  },
  {
   "cell_type": "code",
   "execution_count": 45,
   "id": "0ad9bde2",
   "metadata": {},
   "outputs": [
    {
     "name": "stdout",
     "output_type": "stream",
     "text": [
      "0.3757734566917955\n"
     ]
    }
   ],
   "source": [
    "# Free fall time compared to simulation time (cgs)\n",
    "ff_time = np.sqrt((3*np.pi)/(32*gconst*np.average(irho/rhocgs2code)))\n",
    "print(ff_time)"
   ]
  },
  {
   "cell_type": "code",
   "execution_count": 46,
   "id": "086a8e17",
   "metadata": {},
   "outputs": [
    {
     "data": {
      "text/plain": [
       "0.3561594333328563"
      ]
     },
     "execution_count": 46,
     "metadata": {},
     "output_type": "execute_result"
    }
   ],
   "source": [
    "(27171.14208063890/tcgs2code)/ff_time"
   ]
  },
  {
   "cell_type": "code",
   "execution_count": 47,
   "id": "0ce2f220",
   "metadata": {},
   "outputs": [
    {
     "data": {
      "text/plain": [
       "<KeysViewHDF5 ['bfield', 'coordinate', 'cs', 'dimension', 'epsilon', 'primitive', 'temp', 'time', 'x-interface', 'y-interface', 'z-interface']>"
      ]
     },
     "execution_count": 47,
     "metadata": {},
     "output_type": "execute_result"
    }
   ],
   "source": [
    "filename = \"/home/cnchong/Codes/cumc3d/model/Type_Ia/outfile/cylindrical_PPM_HLL/rkiter-0-nm.hdf5\"\n",
    "f = h5py.File(filename, \"r\")\n",
    "f.keys()"
   ]
  },
  {
   "cell_type": "code",
   "execution_count": 48,
   "id": "ec41487c",
   "metadata": {},
   "outputs": [],
   "source": [
    "prim_list = []\n",
    "n = 87\n",
    "for i in range(n):\n",
    "    filename = \"/home/cnchong/Codes/cumc3d/model/Type_Ia/outfile/cylindrical_PPM_HLL/rkiter-\"+str(i)+\"-nm.hdf5\"\n",
    "    f = h5py.File(filename, \"r\")\n",
    "    primitive = f['primitive'][:]\n",
    "    primitive = primitive.T\n",
    "    prim_list.append(primitive)\n",
    "    f.close()\n",
    "epsilon_list = []\n",
    "for i in range(n):\n",
    "    filename = \"/home/cnchong/Codes/cumc3d/model/Type_Ia/outfile/cylindrical_PPM_HLL/rkiter-\"+str(i)+\"-nm.hdf5\"\n",
    "    f = h5py.File(filename, \"r\")\n",
    "    epsilon = f['epsilon'][:]\n",
    "    epsilon = epsilon.T\n",
    "    epsilon_list.append(epsilon)\n",
    "    f.close()\n",
    "temp_list = []\n",
    "for i in range(n):\n",
    "    filename = \"/home/cnchong/Codes/cumc3d/model/Type_Ia/outfile/cylindrical_PPM_HLL/rkiter-\"+str(i)+\"-nm.hdf5\"\n",
    "    f = h5py.File(filename, \"r\")\n",
    "    temp = f['temp'][:]\n",
    "    temp = temp.T\n",
    "    temp_list.append(temp)\n",
    "    f.close()"
   ]
  },
  {
   "cell_type": "code",
   "execution_count": 49,
   "id": "2ac0c02e",
   "metadata": {},
   "outputs": [],
   "source": [
    "dx2 = np.diff(xxf[:,0]**2)\n",
    "dy = np.diff(yyf[0,:])\n",
    "dxx2,dyy = np.meshgrid(dx2,dy)\n",
    "vol = dxx2*dyy*np.pi"
   ]
  },
  {
   "cell_type": "code",
   "execution_count": null,
   "id": "40ef9624",
   "metadata": {},
   "outputs": [],
   "source": [
    "mass_list = []\n",
    "turbq_list = []\n",
    "for prim in prim_list:\n",
    "    mass = np.sum(prim[0,1:-1,1,1:-1].T*vol)\n",
    "    mass_list.append(mass)\n",
    "    mass = np.sum(prim[0,1:-1,1,1:-1].T*vol)\n",
    "    mass_list.append(mass)\n",
    "mass_arr = np.array(mass_list)"
   ]
  },
  {
   "cell_type": "code",
   "execution_count": 70,
   "id": "4cf6e08e",
   "metadata": {},
   "outputs": [],
   "source": [
    "energy_list = []\n",
    "for eps in epsilon_list:\n",
    "    energy = np.sum(eps[1:-1,1,1:-1].T*vol)\n",
    "    energy_list.append(energy)\n",
    "energy_arr = np.array(energy_list)"
   ]
  },
  {
   "cell_type": "code",
   "execution_count": 66,
   "id": "da622cf7",
   "metadata": {},
   "outputs": [
    {
     "data": {
      "text/plain": [
       "Text(0.5, 1.0, 'Mass against time')"
      ]
     },
     "execution_count": 66,
     "metadata": {},
     "output_type": "execute_result"
    },
    {
     "data": {
      "image/png": "[encoded data removed]",
      "text/plain": [
       "<Figure size 640x480 with 1 Axes>"
      ]
     },
     "metadata": {},
     "output_type": "display_data"
    }
   ],
   "source": [
    "plt.plot(mass_arr)\n",
    "plt.xlabel('time step')\n",
    "plt.ylabel('Mass (solar)')\n",
    "plt.title('Mass against time')"
   ]
  },
  {
   "cell_type": "code",
   "execution_count": 73,
   "id": "9db36647",
   "metadata": {},
   "outputs": [
    {
     "data": {
      "text/plain": [
       "Text(0.5, 1.0, 'Energy against time')"
      ]
     },
     "execution_count": 73,
     "metadata": {},
     "output_type": "execute_result"
    },
    {
     "data": {
      "image/png": "[encoded data removed]",
      "text/plain": [
       "<Figure size 640x480 with 1 Axes>"
      ]
     },
     "metadata": {},
     "output_type": "display_data"
    }
   ],
   "source": [
    "plt.plot(energy_arr/energycgs2code)\n",
    "plt.xlabel('time step')\n",
    "plt.ylabel('Energy (cgs)')\n",
    "plt.title('Energy against time')"
   ]
  },
  {
   "cell_type": "code",
   "execution_count": null,
   "id": "da923d2f",
   "metadata": {},
   "outputs": [],
   "source": [
    "def easy_animation(xxf,yyf,data_list, name, ani_name):\n",
    "    data_list_arr = np.array(data_list)\n",
    "    fig = plt.figure()\n",
    "    camera = Camera(fig)\n",
    "    ax = plt.axes()\n",
    "    vmin = np.min(data_list_arr)\n",
    "    vmax = np.max(data_list_arr)\n",
    "    print(vmin)\n",
    "    print(vmax)\n",
    "    for i in range(len(data_list)):\n",
    "        prim = data_list[i]\n",
    "        quan = prim\n",
    "        plt.pcolormesh(xxf,yyf,quan,vmin=vmin,vmax=vmax)\n",
    "        ax.text(0.3, 1.01, str(name)+ ' at time step ' +str(i), transform=ax.transAxes)\n",
    "        camera.snap()\n",
    "    plt.colorbar(format=ticker.FuncFormatter(fmt))\n",
    "    plt.annotate('max = '+np.format_float_scientific(vmax, precision=3, exp_digits=1), xy=(0.05, 0.95), xycoords='axes fraction', color = 'red')\n",
    "    plt.annotate('min = '+np.format_float_scientific(vmin, precision=3, exp_digits=1), xy=(0.05, 0.9), xycoords='axes fraction', color = 'red')\n",
    "    ani = camera.animate()\n",
    "    ani.save('/home/cnchong/Codes/cumc3d/model/Type_Ia/outfile/cylindrical_PPM_HLL/'+str(ani_name)+'.mp4')\n",
    "    plt.close()\n",
    "    "
   ]
  },
  {
   "cell_type": "code",
   "execution_count": 12,
   "id": "b7df90f5",
   "metadata": {},
   "outputs": [
    {
     "name": "stdout",
     "output_type": "stream",
     "text": [
      "5.560494046330114e-22\n",
      "2.0065629871075823e-11\n"
     ]
    }
   ],
   "source": [
    "tau_list = []\n",
    "for i in range(len(prim_list)):\n",
    "    tau_list.append(prim_list[i][4,1:-1,1,1:-1])\n",
    "easy_animation(xxf,yyf,np.array(tau_list), 'tau', 'tau')"
   ]
  },
  {
   "cell_type": "code",
   "execution_count": 13,
   "id": "6a34cd74",
   "metadata": {},
   "outputs": [
    {
     "name": "stdout",
     "output_type": "stream",
     "text": [
      "-0.035541042800120305\n",
      "0.03554104282734783\n"
     ]
    }
   ],
   "source": [
    "vz_list = []\n",
    "for i in range(len(prim_list)):\n",
    "    vz_list.append(prim_list[i][3,1:-1,1,1:-1])\n",
    "easy_animation(xxf,yyf,np.array(vz_list), 'vz', 'vz')"
   ]
  },
  {
   "cell_type": "code",
   "execution_count": 14,
   "id": "4ca5a119",
   "metadata": {},
   "outputs": [
    {
     "name": "stdout",
     "output_type": "stream",
     "text": [
      "-0.03320483207548481\n",
      "0.0022741695131375727\n"
     ]
    }
   ],
   "source": [
    "vx_list = []\n",
    "for i in range(len(prim_list)):\n",
    "    vx_list.append(prim_list[i][1,1:-1,1,1:-1])\n",
    "easy_animation(xxf,yyf,np.array(vx_list), 'vx', 'vx')"
   ]
  },
  {
   "cell_type": "code",
   "execution_count": 15,
   "id": "9213b93b",
   "metadata": {},
   "outputs": [
    {
     "name": "stdout",
     "output_type": "stream",
     "text": [
      "-34.05680964249514\n",
      "-17.900189313940928\n"
     ]
    }
   ],
   "source": [
    "dens_list = []\n",
    "for i in range(len(prim_list)):\n",
    "    dens_list.append(prim_list[i][0,1:-1,1,1:-1])\n",
    "easy_animation(xxf,yyf,np.log(np.array(dens_list)), 'log_rho', 'log_rho')"
   ]
  },
  {
   "cell_type": "code",
   "execution_count": 16,
   "id": "377a0a05",
   "metadata": {},
   "outputs": [
    {
     "name": "stdout",
     "output_type": "stream",
     "text": [
      "-14.656140494435107\n",
      "-5.709378260501571\n"
     ]
    }
   ],
   "source": [
    "eps_anilist = []\n",
    "for i in range(len(epsilon_list)):\n",
    "    eps_anilist.append(epsilon_list[i][1:-1,1, 1:-1])\n",
    "easy_animation(xxf,yyf,np.log(np.array(eps_anilist)), 'log_eps', 'log_eps')"
   ]
  }
 ],
 "metadata": {
  "kernelspec": {
   "display_name": "Rotating_WD",
   "language": "python",
   "name": "python3"
  },
  "language_info": {
   "codemirror_mode": {
    "name": "ipython",
    "version": 3
   },
   "file_extension": ".py",
   "mimetype": "text/x-python",
   "name": "python",
   "nbconvert_exporter": "python",
   "pygments_lexer": "ipython3",
   "version": "3.12.5"
  }
 },
 "nbformat": 4,
 "nbformat_minor": 5
}
