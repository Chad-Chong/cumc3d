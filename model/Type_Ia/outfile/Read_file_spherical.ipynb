{
 "cells": [
  {
   "cell_type": "code",
   "execution_count": 1,
   "id": "81b710c8-c39e-4482-860c-e49b5f7ce53f",
   "metadata": {},
   "outputs": [],
   "source": [
    "import h5py\n",
    "import os\n",
    "import numpy as np\n",
    "import matplotlib.pyplot as plt\n",
    "from celluloid import Camera\n",
    "import matplotlib.ticker as ticker\n",
    "import pandas as pd"
   ]
  },
  {
   "cell_type": "code",
   "execution_count": 2,
   "id": "6f8d349e",
   "metadata": {},
   "outputs": [],
   "source": [
    "def fmt(x, pos):\n",
    "    a, b = '{:.2e}'.format(x).split('e')\n",
    "    b = int(b)\n",
    "    return r'${} \\times 10^{{{}}}$'.format(a, b)"
   ]
  },
  {
   "cell_type": "code",
   "execution_count": 3,
   "id": "b791dc28",
   "metadata": {},
   "outputs": [],
   "source": [
    "gconst = 6.67430e-8\n",
    "clight = 2.99792458e10\n",
    "solar = 1.98847e33\n",
    "lencgs2code = (clight**2)/(solar*gconst)\n",
    "masscgs2code = (1.0e0/solar)\n",
    "rhocgs2code = (masscgs2code/lencgs2code**3)\n",
    "tcgs2code = (clight**3)/(solar*gconst)\n",
    "energycgs2code = (1.0E0/clight**2)\n",
    "me2 = 9.1093837015e-28*masscgs2code\n",
    "mb2 = 1.66053906660e-24*masscgs2code\n",
    "ye = 0.5e0\n",
    "h_bar = (1.054571817e-27)*(lencgs2code**2*masscgs2code/tcgs2code)\n",
    "amax = (me2**4)/(2.4e1*np.pi**2*h_bar**3)\n",
    "bmax = (mb2*me2**3)/(3.0e0*np.pi**2*h_bar**3*ye)"
   ]
  },
  {
   "cell_type": "code",
   "execution_count": 4,
   "id": "c2ca70cd",
   "metadata": {},
   "outputs": [],
   "source": [
    "def xe(rho):\n",
    "    return (rho/bmax)**(1.0e0/3.0e0)\n",
    "def dpdx(x):\n",
    "    return 8.0e0*x**4/np.sqrt(x**2 + 1.0e0)\n",
    "def cs(rho):\n",
    "    return np.sqrt(amax*dpdx(xe(rho))/3.0e0/(rho**2*bmax)**(1.0e0/3.0e0))"
   ]
  },
  {
   "cell_type": "code",
   "execution_count": 5,
   "id": "cc482d29-d5e6-43ae-809a-3457b7b2d542",
   "metadata": {},
   "outputs": [
    {
     "data": {
      "text/plain": [
       "<KeysViewHDF5 ['bfield', 'coordinate', 'dimension', 'epsilon', 'primitive', 'time', 'x-interface', 'y-interface', 'z-interface']>"
      ]
     },
     "execution_count": 5,
     "metadata": {},
     "output_type": "execute_result"
    }
   ],
   "source": [
    "filename = \"/home/cnchong/Codes/cumc3d/model/Type_Ia/outfile/rkiter-0-nm.hdf5\"\n",
    "f = h5py.File(filename, \"r\")\n",
    "f.keys()"
   ]
  },
  {
   "cell_type": "code",
   "execution_count": 6,
   "id": "e2e3d37b",
   "metadata": {},
   "outputs": [],
   "source": [
    "# Face value\n",
    "x1f = np.loadtxt('/home/cnchong/Codes/cumc3d/model/Type_Ia/profile/hydro_x1_fgrid.dat').T\n",
    "x2f = np.loadtxt('/home/cnchong/Codes/cumc3d/model/Type_Ia/profile/hydro_x2_fgrid.dat').T\n",
    "# Center value\n",
    "x1f = x1f [3:-3] # Remove BC\n",
    "x1c = (x1f[1:]+x1f[:-1])/2 #mid pt\n",
    "x2f = x2f[3:-3] # Remove BC\n",
    "x2c = (x2f[1:]+x2f[:-1])/2 #mid pt\n",
    "\n",
    "rr, tt = np.meshgrid(x1c,x2c,indexing='ij') # r and cos, spherical\n",
    "yy = rr*np.cos(tt)\n",
    "xx = rr*np.sin(tt)\n",
    "\n",
    "rrf, ttf = np.meshgrid(x1f,x2f,indexing='ij') # r and cos, spherical\n",
    "yyf = rrf*np.cos(ttf)\n",
    "xxf = rrf*np.sin(ttf)"
   ]
  },
  {
   "cell_type": "code",
   "execution_count": 7,
   "id": "a3e6be99",
   "metadata": {},
   "outputs": [],
   "source": [
    "# Initial Values\n",
    "irho = np.loadtxt('/home/cnchong/Codes/cumc3d/model/Type_Ia/profile/hydro_rho.dat').T*rhocgs2code\n",
    "ieps = np.loadtxt('/home/cnchong/Codes/cumc3d/model/Type_Ia/profile/hydro_eps.dat').T*energycgs2code\n",
    "ivz = np.loadtxt('/home/cnchong/Codes/cumc3d/model/Type_Ia/profile/hydro_vphi.dat').T\n",
    "iHe4 = np.loadtxt('/home/cnchong/Codes/cumc3d/model/Type_Ia/profile/Helm_Xhe4.dat').T\n",
    "iC12 = np.loadtxt('/home/cnchong/Codes/cumc3d/model/Type_Ia/profile/Helm_Xc12.dat').T\n",
    "iO16 = np.loadtxt('/home/cnchong/Codes/cumc3d/model/Type_Ia/profile/Helm_Xo16.dat').T\n",
    "iNe20 = np.loadtxt('/home/cnchong/Codes/cumc3d/model/Type_Ia/profile/Helm_Xne20.dat').T\n",
    "iMg24 = np.loadtxt('/home/cnchong/Codes/cumc3d/model/Type_Ia/profile/Helm_Xmg24.dat').T\n",
    "iSi28 = np.loadtxt('/home/cnchong/Codes/cumc3d/model/Type_Ia/profile/Helm_Xsi28.dat').T\n",
    "iNi56 = np.loadtxt('/home/cnchong/Codes/cumc3d/model/Type_Ia/profile/Helm_Xni56.dat').T"
   ]
  },
  {
   "cell_type": "code",
   "execution_count": 8,
   "id": "0ad9bde2",
   "metadata": {},
   "outputs": [
    {
     "name": "stdout",
     "output_type": "stream",
     "text": [
      "0.6642865730192676 0.024800737574159987\n"
     ]
    }
   ],
   "source": [
    "# Free fall time compared to simulation time\n",
    "sim_time = 134863/tcgs2code\n",
    "ff_time = np.sqrt((3*np.pi)/(32*gconst*np.average(irho)/rhocgs2code))\n",
    "print(sim_time, ff_time)"
   ]
  },
  {
   "cell_type": "code",
   "execution_count": 9,
   "id": "ec41487c",
   "metadata": {},
   "outputs": [],
   "source": [
    "data_list = []\n",
    "n = 11\n",
    "for i in range(n):\n",
    "    filename = \"/home/cnchong/Codes/cumc3d/model/Type_Ia/outfile/rkiter-\"+str(i)+\"-nm.hdf5\"\n",
    "    f = h5py.File(filename, \"r\")\n",
    "    primitive = f['primitive'][:]\n",
    "    primitive = primitive.T\n",
    "    data_list.append(primitive)\n",
    "    f.close()\n",
    "epsilon_list = []\n",
    "for i in range(n):\n",
    "    filename = \"/home/cnchong/Codes/cumc3d/model/Type_Ia/outfile/rkiter-\"+str(i)+\"-nm.hdf5\"\n",
    "    f = h5py.File(filename, \"r\")\n",
    "    epsilon = f['epsilon'][:]\n",
    "    epsilon = epsilon.T\n",
    "    epsilon_list.append(epsilon)\n",
    "    f.close()"
   ]
  },
  {
   "cell_type": "code",
   "execution_count": 10,
   "id": "da923d2f",
   "metadata": {},
   "outputs": [],
   "source": [
    "name = ['rho', 'vx', 'vy', 'vz']\n",
    "ioname = ['He4', 'C12', 'O16', 'Ne20', 'Mg24', 'Si28', 'Ni56']\n",
    "quan_name = name+ioname+['q']\n",
    "dict = {\n",
    "    'rho' : irho,\n",
    "    'vx' : 0,\n",
    "    'vy' : 0,\n",
    "    'vz' : ivz,\n",
    "    'He4' : iHe4,\n",
    "    'C12' : iC12,\n",
    "    'O16' : iO16,\n",
    "    'Ne20' : iNe20,\n",
    "    'Mg24' : iMg24,\n",
    "    'Si28' : iSi28,\n",
    "    'Ni56' : iNi56,\n",
    "    'q' : 1.0e-10\n",
    "}\n",
    "def easy_animation(xxf,yyf,data_list, name, ani_name):\n",
    "    data_list_arr = np.array(data_list)\n",
    "    fig = plt.figure()\n",
    "    camera = Camera(fig)\n",
    "    ax = plt.axes()\n",
    "    vmin = np.min(data_list_arr)\n",
    "    vmax = np.max(data_list_arr)\n",
    "    print(vmin)\n",
    "    print(vmax)\n",
    "    for i in range(len(data_list)):\n",
    "        prim = data_list[i]\n",
    "        quan = prim\n",
    "        plt.pcolormesh(xxf,yyf,quan,vmin=vmin,vmax=vmax)\n",
    "        ax.text(0.3, 1.01, str(name)+ ' at time step ' +str(i), transform=ax.transAxes)\n",
    "        camera.snap()\n",
    "    plt.colorbar(format=ticker.FuncFormatter(fmt))\n",
    "    plt.annotate('max = '+np.format_float_scientific(vmax, precision=3, exp_digits=1), xy=(0.05, 0.95), xycoords='axes fraction', color = 'red')\n",
    "    plt.annotate('min = '+np.format_float_scientific(vmin, precision=3, exp_digits=1), xy=(0.05, 0.9), xycoords='axes fraction', color = 'red')\n",
    "    ani = camera.animate()\n",
    "    ani.save('/home/cnchong/Codes/cumc3d/model/Type_Ia/outfile/'+str(ani_name)+'.mp4')\n",
    "    plt.close()\n",
    "    "
   ]
  },
  {
   "cell_type": "code",
   "execution_count": 13,
   "id": "377a0a05",
   "metadata": {},
   "outputs": [
    {
     "name": "stdout",
     "output_type": "stream",
     "text": [
      "-11.691023231539535\n",
      "-5.736758607413528\n"
     ]
    }
   ],
   "source": [
    "eps_anilist = []\n",
    "for i in range(len(epsilon_list)):\n",
    "    eps_anilist.append(epsilon_list[i][1:-1,1:-1,1])\n",
    "easy_animation(xxf,yyf,np.log(np.array(eps_anilist)), 'log_eps', 'log_eps')"
   ]
  },
  {
   "cell_type": "code",
   "execution_count": 12,
   "id": "5b290322",
   "metadata": {},
   "outputs": [
    {
     "name": "stdout",
     "output_type": "stream",
     "text": [
      "-36.35936052672609\n",
      "-17.93867978277373\n",
      "0.0\n",
      "0.0\n"
     ]
    }
   ],
   "source": [
    "rho_list = []\n",
    "q_list = []\n",
    "for i in range(len(data_list)):\n",
    "    rho = data_list[i][0,1:-1,1:-1,1]\n",
    "    q = data_list[i][5,1:-1,1:-1,1]\n",
    "    rho_list.append(rho)\n",
    "    q_list.append(q)\n",
    "easy_animation(xxf,yyf,np.log(np.array(rho_list)),'logrho', 'logrho')\n",
    "easy_animation(xxf,yyf,np.array(q_list),'turbq', 'turbq')\n"
   ]
  }
 ],
 "metadata": {
  "kernelspec": {
   "display_name": "Rotating_WD",
   "language": "python",
   "name": "python3"
  },
  "language_info": {
   "codemirror_mode": {
    "name": "ipython",
    "version": 3
   },
   "file_extension": ".py",
   "mimetype": "text/x-python",
   "name": "python",
   "nbconvert_exporter": "python",
   "pygments_lexer": "ipython3",
   "version": "3.12.5"
  }
 },
 "nbformat": 4,
 "nbformat_minor": 5
}
