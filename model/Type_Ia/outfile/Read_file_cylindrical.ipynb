{
 "cells": [
  {
   "cell_type": "code",
   "execution_count": 1,
   "id": "81b710c8-c39e-4482-860c-e49b5f7ce53f",
   "metadata": {},
   "outputs": [],
   "source": [
    "import h5py\n",
    "import os\n",
    "import numpy as np\n",
    "import matplotlib.pyplot as plt\n",
    "from celluloid import Camera\n",
    "import matplotlib.ticker as ticker\n",
    "import pandas as pd\n",
    "import helmeos"
   ]
  },
  {
   "cell_type": "code",
   "execution_count": 2,
   "id": "6f8d349e",
   "metadata": {},
   "outputs": [],
   "source": [
    "def fmt(x, pos):\n",
    "    a, b = '{:.2e}'.format(x).split('e')\n",
    "    b = int(b)\n",
    "    return r'${} \\times 10^{{{}}}$'.format(a, b)"
   ]
  },
  {
   "cell_type": "code",
   "execution_count": 3,
   "id": "b791dc28",
   "metadata": {},
   "outputs": [],
   "source": [
    "working_directory = '/home/cnchong/Codes/cumc3d/model/Type_Ia/outfile'\n",
    "n = 100\n",
    "gconst = 6.67430e-8\n",
    "clight = 2.99792458e10\n",
    "solar = 1.98847e33\n",
    "lencgs2code = (clight**2)/(solar*gconst)\n",
    "masscgs2code = (1.0e0/solar)\n",
    "rhocgs2code = (masscgs2code/lencgs2code**3)\n",
    "tcgs2code = (clight**3)/(solar*gconst)\n",
    "energycgs2code = (1.0E0/clight**2)\n",
    "me2 = 9.1093837015e-28*masscgs2code\n",
    "mb2 = 1.66053906660e-24*masscgs2code\n",
    "ye = 0.5e0\n",
    "h_bar = (1.054571817e-27)*(lencgs2code**2*masscgs2code/tcgs2code)\n",
    "amax = (me2**4)/(2.4e1*np.pi**2*h_bar**3)\n",
    "bmax = (mb2*me2**3)/(3.0e0*np.pi**2*h_bar**3*ye)"
   ]
  },
  {
   "cell_type": "code",
   "execution_count": 4,
   "id": "c2ca70cd",
   "metadata": {},
   "outputs": [],
   "source": [
    "def xe(rho):\n",
    "    return (rho/bmax)**(1.0e0/3.0e0)\n",
    "def dpdx(x):\n",
    "    return 8.0e0*x**4/np.sqrt(x**2 + 1.0e0)\n",
    "def cs(rho):\n",
    "    return np.sqrt(amax*dpdx(xe(rho))/3.0e0/(rho**2*bmax)**(1.0e0/3.0e0))"
   ]
  },
  {
   "cell_type": "code",
   "execution_count": 5,
   "id": "da923d2f",
   "metadata": {},
   "outputs": [],
   "source": [
    "def easy_animation(xxf,yyf,data_list, name, ani_name):\n",
    "    data_list_arr = np.array(data_list)\n",
    "    fig = plt.figure()\n",
    "    camera = Camera(fig)\n",
    "    ax = plt.axes()\n",
    "    vmin = np.min(data_list_arr)\n",
    "    vmax = np.max(data_list_arr)\n",
    "    print(vmin)\n",
    "    print(vmax)\n",
    "    for i in range(len(data_list)):\n",
    "        prim = data_list[i]\n",
    "        quan = prim\n",
    "        plt.pcolormesh(xxf,yyf,quan,vmin=vmin,vmax=vmax)\n",
    "        ax.text(0.3, 1.01, str(name)+ ' at time step ' +str(i), transform=ax.transAxes)\n",
    "        camera.snap()\n",
    "    plt.colorbar(format=ticker.FuncFormatter(fmt))\n",
    "    plt.annotate('max = '+np.format_float_scientific(vmax, precision=3, exp_digits=1), xy=(0.05, 0.95), xycoords='axes fraction', color = 'red')\n",
    "    plt.annotate('min = '+np.format_float_scientific(vmin, precision=3, exp_digits=1), xy=(0.05, 0.9), xycoords='axes fraction', color = 'red')\n",
    "    ani = camera.animate()\n",
    "    ani.save(working_directory+'/'+str(ani_name)+'.mp4')\n",
    "    plt.close()\n",
    "def easy_animation_levelset(xx,yy,xxf,yyf,data_list, levelset, name, ani_name):\n",
    "    data_list_arr = np.array(data_list)\n",
    "    fig = plt.figure()\n",
    "    camera = Camera(fig)\n",
    "    ax = plt.axes()\n",
    "    vmin = np.min(data_list_arr)\n",
    "    vmax = np.max(data_list_arr)\n",
    "    print(vmin)\n",
    "    print(vmax)\n",
    "    for i in range(len(data_list)):\n",
    "        prim = data_list[i]\n",
    "        quan = prim\n",
    "        plt.contour(xx,yy,levelset[i],levels=[0],colors=['red'])\n",
    "        plt.pcolormesh(xxf,yyf,quan,vmin=vmin,vmax=vmax,cmap='inferno')\n",
    "        ax.text(0.3, 1.01, str(name)+ ' at time step ' +str(i), transform=ax.transAxes)\n",
    "        camera.snap()\n",
    "    plt.colorbar(format=ticker.FuncFormatter(fmt))\n",
    "    plt.annotate('max = '+np.format_float_scientific(vmax, precision=3, exp_digits=1), xy=(0.05, 0.95), xycoords='axes fraction', color = 'red')\n",
    "    plt.annotate('min = '+np.format_float_scientific(vmin, precision=3, exp_digits=1), xy=(0.05, 0.9), xycoords='axes fraction', color = 'red')\n",
    "    ani = camera.animate()\n",
    "    ani.save(working_directory+'/'+str(ani_name)+'.mp4')\n",
    "    plt.close()\n",
    "def easy_animation_bfield(x1c,x3c,xxf,yyf,data_list, bfield, name, ani_name):\n",
    "    data_list_arr = np.array(data_list)\n",
    "    bfield_arr = np.array(bfield)\n",
    "    fig = plt.figure()\n",
    "    camera = Camera(fig)\n",
    "    ax = plt.axes()\n",
    "    vmin = np.min(data_list_arr)\n",
    "    vmax = np.max(data_list_arr)\n",
    "    bmin = np.min(bfield_arr)\n",
    "    bmax = np.max(bfield_arr)\n",
    "    print(vmin)\n",
    "    print(vmax)\n",
    "    for i in range(len(data_list)):\n",
    "        prim = data_list[i]\n",
    "        quan = prim\n",
    "        plt.pcolormesh(xxf,yyf,quan,vmin=vmin,vmax=vmax,cmap='binary')\n",
    "        plt.streamplot(x1c,x3c,bfield[i][0,:,:].T,bfield[0][2,:,:].T, density = 1.5, color=np.log(mag_list[i][0,:,:].T**2+mag_list[0][2,:,:].T**2), cmap='inferno')\n",
    "        ax.text(0.3, 1.01, str(name)+ ' at time step ' +str(i), transform=ax.transAxes)\n",
    "        camera.snap()\n",
    "    plt.colorbar(format=ticker.FuncFormatter(fmt))\n",
    "    plt.annotate('max = '+np.format_float_scientific(bmin, precision=3, exp_digits=1), xy=(0.05, 0.95), xycoords='axes fraction', color = 'red')\n",
    "    plt.annotate('min = '+np.format_float_scientific(bmax, precision=3, exp_digits=1), xy=(0.05, 0.9), xycoords='axes fraction', color = 'red')\n",
    "    ani = camera.animate()\n",
    "    ani.save(working_directory+'/'+str(ani_name)+'.mp4')\n",
    "    plt.close()\n",
    "\n",
    "def animation_1D(x1c,data_list, log_flag, name, ani_name):\n",
    "    fig = plt.figure()\n",
    "    camera = Camera(fig)\n",
    "    ax = plt.axes()\n",
    "    j = 0\n",
    "    for i in data_list:\n",
    "        j+= 1\n",
    "        m = int(i.shape[1]/2)\n",
    "        if log_flag == 1:\n",
    "            plt.plot(x1c,np.log(i[:,m]), c = 'black')\n",
    "        else:\n",
    "            plt.plot(x1c,i[:,m],c='black')\n",
    "        ax.text(0.25, 1.01, str(name)+ ' at time step ' +str(j), transform=ax.transAxes)\n",
    "        camera.snap()\n",
    "    ani = camera.animate()\n",
    "    ani.save(working_directory+'/'+str(ani_name)+'.mp4')\n",
    "    plt.close()"
   ]
  },
  {
   "cell_type": "code",
   "execution_count": 6,
   "id": "687b8464",
   "metadata": {},
   "outputs": [],
   "source": [
    "def helmeos_e(dens, temp, abar, zbar):\n",
    "    out = helmeos.eos_DT(dens, temp, abar, zbar)\n",
    "    return out['etot']/energycgs2code\n",
    "def helmeos_p(dens, temp, abar, zbar):\n",
    "    out = helmeos.eos_DT(dens, temp, abar, zbar)\n",
    "    return out['ptot']/(masscgs2code*energycgs2code/lencgs2code**3)\n",
    "def helmeos_cs(dens, temp, abar, zbar):\n",
    "    out = helmeos.eos_DT(dens, temp, abar, zbar)\n",
    "    return out['cs']/clight"
   ]
  },
  {
   "cell_type": "code",
   "execution_count": 7,
   "id": "e2e3d37b",
   "metadata": {},
   "outputs": [],
   "source": [
    "# Face value\n",
    "x1f = np.loadtxt('/home/cnchong/Codes/cumc3d/model/Type_Ia/profile/hydro_x1_fgrid.dat').T\n",
    "x3f = np.loadtxt('/home/cnchong/Codes/cumc3d/model/Type_Ia/profile/hydro_x3_fgrid.dat').T\n",
    "# Center value\n",
    "x1f = x1f [3:-3]*lencgs2code # Remove BC\n",
    "x1c = (x1f[1:]+x1f[:-1])/2 #mid pt\n",
    "x3f = x3f[3:-3]*lencgs2code # Remove BC\n",
    "x3c = (x3f[1:]+x3f[:-1])/2 #mid pt\n",
    "\n",
    "xx,yy= np.meshgrid(x1c,x3c,indexing='ij')\n",
    "\n",
    "xxf, yyf = np.meshgrid(x1f,x3f,indexing='ij')"
   ]
  },
  {
   "cell_type": "code",
   "execution_count": 8,
   "id": "a3e6be99",
   "metadata": {},
   "outputs": [],
   "source": [
    "# Initial Values\n",
    "irho = np.loadtxt('/home/cnchong/Codes/cumc3d/model/Type_Ia/profile/hydro_rho.dat').T*rhocgs2code\n",
    "ieps = np.loadtxt('/home/cnchong/Codes/cumc3d/model/Type_Ia/profile/hydro_eps.dat').T*energycgs2code\n",
    "ivz = np.loadtxt('/home/cnchong/Codes/cumc3d/model/Type_Ia/profile/hydro_vphi.dat').T\n",
    "iHe4 = np.loadtxt('/home/cnchong/Codes/cumc3d/model/Type_Ia/profile/Helm_Xhe4.dat').T\n",
    "iC12 = np.loadtxt('/home/cnchong/Codes/cumc3d/model/Type_Ia/profile/Helm_Xc12.dat').T\n",
    "iO16 = np.loadtxt('/home/cnchong/Codes/cumc3d/model/Type_Ia/profile/Helm_Xo16.dat').T\n",
    "iNe20 = np.loadtxt('/home/cnchong/Codes/cumc3d/model/Type_Ia/profile/Helm_Xne20.dat').T\n",
    "iMg24 = np.loadtxt('/home/cnchong/Codes/cumc3d/model/Type_Ia/profile/Helm_Xmg24.dat').T\n",
    "iSi28 = np.loadtxt('/home/cnchong/Codes/cumc3d/model/Type_Ia/profile/Helm_Xsi28.dat').T\n",
    "iNi56 = np.loadtxt('/home/cnchong/Codes/cumc3d/model/Type_Ia/profile/Helm_Xni56.dat').T"
   ]
  },
  {
   "cell_type": "code",
   "execution_count": 9,
   "id": "0ad9bde2",
   "metadata": {},
   "outputs": [
    {
     "name": "stdout",
     "output_type": "stream",
     "text": [
      "0.5313102157129986\n"
     ]
    }
   ],
   "source": [
    "# Free fall time compared to simulation time (cgs)\n",
    "ff_time = np.sqrt((3*np.pi)/(32*gconst*np.average(irho/rhocgs2code)))\n",
    "print(ff_time)"
   ]
  },
  {
   "cell_type": "code",
   "execution_count": 10,
   "id": "0ce2f220",
   "metadata": {},
   "outputs": [
    {
     "data": {
      "text/plain": [
       "<KeysViewHDF5 ['abar', 'bfield', 'coordinate', 'cs', 'dimension', 'epsilon', 'flame_state', 'phi', 'primitive', 'temp', 'time', 'x-interface', 'y-interface', 'z-interface', 'zbar']>"
      ]
     },
     "execution_count": 10,
     "metadata": {},
     "output_type": "execute_result"
    }
   ],
   "source": [
    "filename = working_directory+\"/rkiter-0-nm.hdf5\"\n",
    "f = h5py.File(filename, \"r\")\n",
    "f.keys()"
   ]
  },
  {
   "cell_type": "code",
   "execution_count": 11,
   "id": "ec41487c",
   "metadata": {},
   "outputs": [],
   "source": [
    "prim_list = []\n",
    "for i in range(n):\n",
    "    filename = working_directory+\"/rkiter-\"+str(i)+\"-nm.hdf5\"\n",
    "    f = h5py.File(filename, \"r\")\n",
    "    primitive = f['primitive'][:]\n",
    "    primitive = primitive.T\n",
    "    prim_list.append(primitive)\n",
    "    f.close()\n",
    "\n",
    "epsilon_list = []\n",
    "for i in range(n):\n",
    "    filename = working_directory+\"/rkiter-\"+str(i)+\"-nm.hdf5\"\n",
    "    f = h5py.File(filename, \"r\")\n",
    "    epsilon = f['epsilon'][:]\n",
    "    epsilon = epsilon.T\n",
    "    epsilon_list.append(epsilon)\n",
    "    f.close()\n",
    "\n",
    "temp_list = []\n",
    "for i in range(n):\n",
    "    filename = working_directory+\"/rkiter-\"+str(i)+\"-nm.hdf5\"\n",
    "    f = h5py.File(filename, \"r\")\n",
    "    temp = f['temp'][:]\n",
    "    temp = temp.T\n",
    "    temp_list.append(temp)\n",
    "    f.close()\n",
    "\n",
    "mag_list = []\n",
    "for i in range(n):\n",
    "    filename = working_directory+\"/rkiter-\"+str(i)+\"-nm.hdf5\"\n",
    "    f = h5py.File(filename, \"r\")\n",
    "    mag = f['bfield'][2:-1,1,2:-1,:]\n",
    "    mag = mag.T\n",
    "    mag_list.append(mag)\n",
    "    f.close()\n",
    "abar_list = []\n",
    "zbar_list = []\n",
    "for i in range(n):\n",
    "    filename = working_directory+\"/rkiter-\"+str(i)+\"-nm.hdf5\"\n",
    "    f = h5py.File(filename, \"r\")\n",
    "    abar = f['abar'][:]\n",
    "    abar = abar.T\n",
    "    abar_list.append(abar)\n",
    "    f.close()\n",
    "for i in range(n):\n",
    "    filename = working_directory+\"/rkiter-\"+str(i)+\"-nm.hdf5\"\n",
    "    f = h5py.File(filename, \"r\")\n",
    "    zbar = f['zbar'][:]\n",
    "    zbar = zbar.T\n",
    "    zbar_list.append(zbar)\n",
    "    f.close()"
   ]
  },
  {
   "cell_type": "code",
   "execution_count": 12,
   "id": "e3f53489",
   "metadata": {},
   "outputs": [],
   "source": [
    "dx2 = np.diff(xxf[:,0]**2)\n",
    "dy = np.diff(yyf[0,:])\n",
    "dxx2,dyy = np.meshgrid(dx2,dy)\n",
    "vol = dxx2*dyy*np.pi\n",
    "mass_list = []\n",
    "turbq_list = []\n",
    "for prim in prim_list:\n",
    "    mass = np.sum(prim[0,1:-1,1,1:-1].T*vol)\n",
    "    mass_list.append(mass)\n",
    "    mass = np.sum(prim[0,1:-1,1,1:-1].T*vol)\n",
    "    mass_list.append(mass)\n",
    "mass_arr = np.array(mass_list)\n",
    "energy_list = []\n",
    "for eps in epsilon_list:\n",
    "    energy = np.sum(eps[1:-1,1,1:-1].T*vol)\n",
    "    energy_list.append(energy)\n",
    "energy_arr = np.array(energy_list)\n",
    "\n",
    "toten_list = []\n",
    "for i in range(len(prim_list)):\n",
    "    inten = np.sum(epsilon_list[i][1:-1,1,1:-1].T*vol)\n",
    "    v2 = prim_list[i][1,1:-1,1,1:-1]**2+xx**2*prim_list[i][2,1:-1,1,1:-1]**2+prim_list[i][3,1:-1,1,1:-1]**2\n",
    "    ke = np.sum(prim_list[i][0,1:-1,1,1:-1].T*v2.T*vol)/2\n",
    "    mag = np.sum((mag_list[i][:,:,0]**2+mag_list[i][:,:,1]**2+mag_list[i][:,:,2]**2).T)/2\n",
    "    toten_list.append(inten+ke+mag)"
   ]
  },
  {
   "cell_type": "code",
   "execution_count": 13,
   "id": "486cedaf",
   "metadata": {},
   "outputs": [
    {
     "data": {
      "text/plain": [
       "[<matplotlib.lines.Line2D at 0x7f47bf086e10>]"
      ]
     },
     "execution_count": 13,
     "metadata": {},
     "output_type": "execute_result"
    },
    {
     "data": {
      "image/png": "[encoded data removed]",
      "text/plain": [
       "<Figure size 640x480 with 1 Axes>"
      ]
     },
     "metadata": {},
     "output_type": "display_data"
    }
   ],
   "source": [
    "plt.plot(mass_list)"
   ]
  },
  {
   "cell_type": "code",
   "execution_count": 14,
   "id": "352e0bb6",
   "metadata": {},
   "outputs": [
    {
     "data": {
      "text/plain": [
       "[<matplotlib.lines.Line2D at 0x7f43edd22ba0>]"
      ]
     },
     "execution_count": 14,
     "metadata": {},
     "output_type": "execute_result"
    },
    {
     "data": {
      "image/png": "[encoded data removed]",
      "text/plain": [
       "<Figure size 640x480 with 1 Axes>"
      ]
     },
     "metadata": {},
     "output_type": "display_data"
    }
   ],
   "source": [
    "plt.plot(toten_list)"
   ]
  },
  {
   "cell_type": "code",
   "execution_count": 15,
   "id": "d88b9492",
   "metadata": {},
   "outputs": [
    {
     "name": "stderr",
     "output_type": "stream",
     "text": [
      "/tmp/ipykernel_34475/2346747047.py:79: RuntimeWarning: divide by zero encountered in log\n",
      "  plt.plot(x1c,np.log(i[:,m]), c = 'black')\n"
     ]
    }
   ],
   "source": [
    "C_list = []\n",
    "for i in range(len(prim_list)):\n",
    "    C_list.append(prim_list[i][7,1:-1,1,1:-1])\n",
    "animation_1D(x1c,C_list, 1, 'C', 'eq_logC')"
   ]
  },
  {
   "cell_type": "code",
   "execution_count": 16,
   "id": "0aabb037",
   "metadata": {},
   "outputs": [
    {
     "name": "stderr",
     "output_type": "stream",
     "text": [
      "/tmp/ipykernel_34475/4047440339.py:4: RuntimeWarning: invalid value encountered in log\n",
      "  easy_animation(xxf,yyf,np.log(np.array(scaG1_list)),'log_scaG1', 'log_scaG1')\n"
     ]
    },
    {
     "name": "stdout",
     "output_type": "stream",
     "text": [
      "nan\n",
      "nan\n"
     ]
    }
   ],
   "source": [
    "scaG1_list = []\n",
    "for i in range(len(prim_list)):\n",
    "    scaG1_list.append(prim_list[i][14,1:-1,1,1:-1])\n",
    "easy_animation(xxf,yyf,np.log(np.array(scaG1_list)),'log_scaG1', 'log_scaG1')\n",
    "animation_1D(x1c,scaG1_list, 0, 'scaG1', 'eq_scaG1')"
   ]
  },
  {
   "cell_type": "code",
   "execution_count": 17,
   "id": "0d522ef0",
   "metadata": {},
   "outputs": [
    {
     "name": "stderr",
     "output_type": "stream",
     "text": [
      "/tmp/ipykernel_34475/866915953.py:4: RuntimeWarning: divide by zero encountered in log\n",
      "  easy_animation(xxf,yyf,np.log(np.array(scaG2_list)),'log_scaG2', 'log_scaG2')\n",
      "/tmp/ipykernel_34475/866915953.py:4: RuntimeWarning: invalid value encountered in log\n",
      "  easy_animation(xxf,yyf,np.log(np.array(scaG2_list)),'log_scaG2', 'log_scaG2')\n"
     ]
    },
    {
     "name": "stdout",
     "output_type": "stream",
     "text": [
      "nan\n",
      "nan\n"
     ]
    }
   ],
   "source": [
    "scaG2_list = []\n",
    "for i in range(len(prim_list)):\n",
    "    scaG2_list.append(prim_list[i][15,1:-1,1,1:-1])\n",
    "easy_animation(xxf,yyf,np.log(np.array(scaG2_list)),'log_scaG2', 'log_scaG2')\n",
    "animation_1D(x1c,scaG2_list, 0, 'scaG2', 'eq_scaG2')"
   ]
  },
  {
   "cell_type": "code",
   "execution_count": 18,
   "id": "9213b93b",
   "metadata": {},
   "outputs": [
    {
     "name": "stdout",
     "output_type": "stream",
     "text": [
      "-34.05817060795703\n",
      "-18.05184586375479\n"
     ]
    }
   ],
   "source": [
    "dens_list = []\n",
    "for i in range(len(prim_list)):\n",
    "    dens_list.append(prim_list[i][0,1:-1,1,1:-1])\n",
    "easy_animation_levelset(xx,yy,xxf,yyf,np.array(np.log(dens_list)),scaG1_list,'log_rho', 'log_rho')"
   ]
  },
  {
   "cell_type": "code",
   "execution_count": 19,
   "id": "bd33d5a8",
   "metadata": {},
   "outputs": [],
   "source": [
    "animation_1D(x1c,dens_list, 1, 'Log equatorial density', 'eq_dens')"
   ]
  },
  {
   "cell_type": "code",
   "execution_count": 20,
   "id": "f167be39",
   "metadata": {},
   "outputs": [
    {
     "name": "stdout",
     "output_type": "stream",
     "text": [
      "-9.210340371976182\n",
      "2.420781363181032\n"
     ]
    }
   ],
   "source": [
    "temp_anilist = []\n",
    "for i in range(len(temp_list)):\n",
    "    temp_anilist.append(temp_list[i][1:-1,1, 1:-1])\n",
    "easy_animation_levelset(xx,yy,xxf,yyf,np.log(np.array(temp_anilist)),scaG1_list,'log_temp', 'log_temp')"
   ]
  },
  {
   "cell_type": "code",
   "execution_count": 21,
   "id": "ce607fbf",
   "metadata": {},
   "outputs": [],
   "source": [
    "animation_1D(x1c,temp_anilist, 1, 'equatorial temp', 'eq_temp')"
   ]
  },
  {
   "cell_type": "code",
   "execution_count": 22,
   "id": "377a0a05",
   "metadata": {},
   "outputs": [
    {
     "name": "stdout",
     "output_type": "stream",
     "text": [
      "-12.818987656506247\n",
      "-5.357094358864415\n"
     ]
    }
   ],
   "source": [
    "eps_anilist = []\n",
    "for i in range(len(epsilon_list)):\n",
    "    eps_anilist.append(epsilon_list[i][1:-1,1, 1:-1])\n",
    "# easy_animation(xxf,yyf,np.log(np.array(eps_anilist)),'log_eps', 'log_eps')\n",
    "easy_animation_levelset(xx,yy,xxf,yyf,np.log(np.array(eps_anilist)), scaG1_list,'log_eps', 'log_eps')"
   ]
  },
  {
   "cell_type": "code",
   "execution_count": 23,
   "id": "748690a7",
   "metadata": {},
   "outputs": [],
   "source": [
    "animation_1D(x1c,eps_anilist, 1, 'log equatorial eps', 'eq_eps')"
   ]
  },
  {
   "cell_type": "code",
   "execution_count": 24,
   "id": "ae425666",
   "metadata": {},
   "outputs": [
    {
     "name": "stdout",
     "output_type": "stream",
     "text": [
      "4.0\n",
      "56.0\n",
      "2.0\n",
      "28.0\n"
     ]
    }
   ],
   "source": [
    "abar_anilist = []\n",
    "for i in range(len(abar_list)):\n",
    "    abar_anilist.append(abar_list[i][1:-1,1, 1:-1])\n",
    "animation_1D(x1c,abar_anilist, 0, 'equatorial abar', 'eq_abar')\n",
    "easy_animation_levelset(xx,yy,xxf,yyf,abar_anilist,scaG1_list, 'abar', 'abar')\n",
    "zbar_anilist = []\n",
    "for i in range(len(zbar_list)):\n",
    "    zbar_anilist.append(zbar_list[i][1:-1,1, 1:-1])\n",
    "animation_1D(x1c,zbar_anilist, 0, 'equatorial zbar', 'eq_zbar')\n",
    "easy_animation_levelset(xx,yy,xxf,yyf,zbar_anilist,scaG1_list, 'zbar', 'zbar')"
   ]
  },
  {
   "cell_type": "code",
   "execution_count": 25,
   "id": "b7df90f5",
   "metadata": {},
   "outputs": [
    {
     "name": "stdout",
     "output_type": "stream",
     "text": [
      "8.129635729173634e-21\n",
      "1.8735810088843194e-11\n"
     ]
    }
   ],
   "source": [
    "tau_list = []\n",
    "for i in range(len(prim_list)):\n",
    "    tau_list.append(prim_list[i][4,1:-1,1,1:-1])\n",
    "easy_animation_levelset(xx,yy,xxf,yyf,np.array(tau_list), scaG1_list,'tau', 'tau')"
   ]
  },
  {
   "cell_type": "code",
   "execution_count": 26,
   "id": "6a34cd74",
   "metadata": {},
   "outputs": [
    {
     "name": "stdout",
     "output_type": "stream",
     "text": [
      "-0.09603254732844381\n",
      "0.11018413596827635\n"
     ]
    }
   ],
   "source": [
    "vz_list = []\n",
    "for i in range(len(prim_list)):\n",
    "    vz_list.append(prim_list[i][3,1:-1,1,1:-1])\n",
    "easy_animation(xxf,yyf,np.array(vz_list), 'vz', 'vz')"
   ]
  },
  {
   "cell_type": "code",
   "execution_count": 27,
   "id": "4ca5a119",
   "metadata": {},
   "outputs": [
    {
     "name": "stdout",
     "output_type": "stream",
     "text": [
      "-0.03895664816935982\n",
      "0.10789190576899153\n"
     ]
    }
   ],
   "source": [
    "vx_list = []\n",
    "for i in range(len(prim_list)):\n",
    "    vx_list.append(prim_list[i][1,1:-1,1,1:-1])\n",
    "easy_animation(xxf,yyf,np.array(vx_list), 'vx', 'vx')"
   ]
  },
  {
   "cell_type": "code",
   "execution_count": 28,
   "id": "a7534d1f",
   "metadata": {},
   "outputs": [
    {
     "name": "stdout",
     "output_type": "stream",
     "text": [
      "-34.05817060795703\n",
      "-18.05184586375479\n"
     ]
    }
   ],
   "source": [
    "easy_animation_bfield(x1c,x3c,xxf,yyf,np.log(dens_list), mag_list, 'poloidal_field', 'poloidal_field')"
   ]
  }
 ],
 "metadata": {
  "kernelspec": {
   "display_name": "Rotating_WD",
   "language": "python",
   "name": "python3"
  },
  "language_info": {
   "codemirror_mode": {
    "name": "ipython",
    "version": 3
   },
   "file_extension": ".py",
   "mimetype": "text/x-python",
   "name": "python",
   "nbconvert_exporter": "python",
   "pygments_lexer": "ipython3",
   "version": "3.12.5"
  }
 },
 "nbformat": 4,
 "nbformat_minor": 5
}
