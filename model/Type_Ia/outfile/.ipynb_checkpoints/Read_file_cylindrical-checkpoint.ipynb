{
 "cells": [
  {
   "cell_type": "code",
   "execution_count": 1,
   "id": "81b710c8-c39e-4482-860c-e49b5f7ce53f",
   "metadata": {},
   "outputs": [],
   "source": [
    "import h5py\n",
    "import numpy as np\n",
    "import matplotlib.pyplot as plt\n",
    "from celluloid import Camera\n",
    "import matplotlib.ticker as ticker\n",
    "import pandas as pd\n",
    "import helmeos\n",
    "from jupyterlab_h5web import H5Web\n",
    "from IPython.display import display"
   ]
  },
  {
   "cell_type": "code",
   "execution_count": 2,
   "id": "6f8d349e",
   "metadata": {},
   "outputs": [],
   "source": [
    "def fmt(x, pos):\n",
    "    a, b = '{:.2e}'.format(x).split('e')\n",
    "    b = int(b)\n",
    "    return r'${} \\times 10^{{{}}}$'.format(a, b)"
   ]
  },
  {
   "cell_type": "code",
   "execution_count": 3,
   "id": "b791dc28",
   "metadata": {},
   "outputs": [],
   "source": [
    "working_directory = '/home/cnchong/Codes/cumc3d/model/Type_Ia/outfile'\n",
    "profile_directory = '/home/cnchong/Codes/cumc3d/model/Type_Ia/profile'\n",
    "n = 36\n",
    "gconst = 6.67430e-8\n",
    "clight = 2.99792458e10\n",
    "solar = 1.98847e33\n",
    "lencgs2code = (clight**2)/(solar*gconst)\n",
    "masscgs2code = (1.0e0/solar)\n",
    "rhocgs2code = (masscgs2code/lencgs2code**3)\n",
    "tcgs2code = (clight**3)/(solar*gconst)\n",
    "energycgs2code = (1.0E0/clight**2)\n",
    "me2 = 9.1093837015e-28*masscgs2code\n",
    "mb2 = 1.66053906660e-24*masscgs2code\n",
    "ye = 0.5e0\n",
    "h_bar = (1.054571817e-27)*(lencgs2code**2*masscgs2code/tcgs2code)\n",
    "amax = (me2**4)/(2.4e1*np.pi**2*h_bar**3)\n",
    "bmax = (mb2*me2**3)/(3.0e0*np.pi**2*h_bar**3*ye)"
   ]
  },
  {
   "cell_type": "code",
   "execution_count": 4,
   "id": "c2ca70cd",
   "metadata": {},
   "outputs": [],
   "source": [
    "def xe(rho):\n",
    "    return (rho/bmax)**(1.0e0/3.0e0)\n",
    "def dpdx(x):\n",
    "    return 8.0e0*x**4/np.sqrt(x**2 + 1.0e0)\n",
    "def cs(rho):\n",
    "    return np.sqrt(amax*dpdx(xe(rho))/3.0e0/(rho**2*bmax)**(1.0e0/3.0e0))"
   ]
  },
  {
   "cell_type": "code",
   "execution_count": 5,
   "id": "687b8464",
   "metadata": {},
   "outputs": [],
   "source": [
    "def helmeos_e(dens, temp, abar, zbar):\n",
    "    dens = dens/rhocgs2code\n",
    "    temp = temp*1e9\n",
    "    out = helmeos.eos_DT(dens, temp, abar, zbar)\n",
    "    return out['etot']*energycgs2code\n",
    "def helmeos_p(dens, temp, abar, zbar):\n",
    "    dens = dens/rhocgs2code\n",
    "    temp = temp*1e9\n",
    "    out = helmeos.eos_DT(dens, temp, abar, zbar)\n",
    "    return out['ptot']*(masscgs2code*energycgs2code/lencgs2code**3)\n",
    "def helmeos_cs(dens, temp, abar, zbar):\n",
    "    dens = dens/rhocgs2code\n",
    "    temp = temp*1e9\n",
    "    out = helmeos.eos_DT(dens, temp, abar, zbar)\n",
    "    return out['cs']/clight"
   ]
  },
  {
   "cell_type": "code",
   "execution_count": 6,
   "id": "da923d2f",
   "metadata": {},
   "outputs": [],
   "source": [
    "def easy_animation(xxf,yyf,data_list, name, ani_name):\n",
    "    data_list_arr = np.array(data_list)\n",
    "    fig = plt.figure()\n",
    "    camera = Camera(fig)\n",
    "    ax = plt.axes()\n",
    "    vmin = np.min(data_list_arr)\n",
    "    vmax = np.max(data_list_arr)\n",
    "    print(vmin)\n",
    "    print(vmax)\n",
    "    for i in range(len(data_list)):\n",
    "        prim = data_list[i]\n",
    "        quan = prim\n",
    "        plt.pcolormesh(xxf,yyf,quan,vmin=vmin,vmax=vmax)\n",
    "        ax.text(0.3, 1.01, str(name)+ ' at time step ' +str(i), transform=ax.transAxes)\n",
    "        camera.snap()\n",
    "    plt.colorbar(format=ticker.FuncFormatter(fmt))\n",
    "    plt.annotate('max = '+np.format_float_scientific(vmax, precision=3, exp_digits=1), xy=(0.05, 0.95), xycoords='axes fraction', color = 'red')\n",
    "    plt.annotate('min = '+np.format_float_scientific(vmin, precision=3, exp_digits=1), xy=(0.05, 0.9), xycoords='axes fraction', color = 'red')\n",
    "    ani = camera.animate()\n",
    "    ani.save(working_directory+'/'+str(ani_name)+'.mp4')\n",
    "    plt.close()\n",
    "def easy_animation_levelset(xx,yy,xxf,yyf,data_list, levelset, name, ani_name):\n",
    "    data_list_arr = np.array(data_list)\n",
    "    fig = plt.figure()\n",
    "    camera = Camera(fig)\n",
    "    ax = plt.axes()\n",
    "    vmin = np.min(data_list_arr)\n",
    "    vmax = np.max(data_list_arr)\n",
    "    print(vmin)\n",
    "    print(vmax)\n",
    "    for i in range(len(data_list)):\n",
    "        prim = data_list[i]\n",
    "        quan = prim\n",
    "        plt.contour(xx,yy,levelset[i],levels=[0],colors=['red'])\n",
    "        plt.pcolormesh(xxf,yyf,quan,vmin=vmin,vmax=vmax,cmap='inferno')\n",
    "        ax.text(0.3, 1.01, str(name)+ ' at time step ' +str(i), transform=ax.transAxes)\n",
    "        camera.snap()\n",
    "    plt.colorbar(format=ticker.FuncFormatter(fmt))\n",
    "    plt.annotate('max = '+np.format_float_scientific(vmax, precision=3, exp_digits=1), xy=(0.05, 0.95), xycoords='axes fraction', color = 'red')\n",
    "    plt.annotate('min = '+np.format_float_scientific(vmin, precision=3, exp_digits=1), xy=(0.05, 0.9), xycoords='axes fraction', color = 'red')\n",
    "    ani = camera.animate()\n",
    "    ani.save(working_directory+'/'+str(ani_name)+'.mp4')\n",
    "    plt.close()\n",
    "def easy_animation_bfield(x1c,x3c,xxf,yyf,data_list, bfield, name, ani_name):\n",
    "    data_list_arr = np.array(data_list)\n",
    "    bfield_arr = np.array(bfield)\n",
    "    fig = plt.figure()\n",
    "    camera = Camera(fig)\n",
    "    ax = plt.axes()\n",
    "    vmin = np.min(data_list_arr)\n",
    "    vmax = np.max(data_list_arr)\n",
    "    bmin = np.min(bfield_arr)\n",
    "    bmax = np.max(bfield_arr)\n",
    "    print(vmin)\n",
    "    print(vmax)\n",
    "    for i in range(len(data_list)):\n",
    "        prim = data_list[i]\n",
    "        quan = prim\n",
    "        plt.pcolormesh(xxf,yyf,quan,vmin=vmin,vmax=vmax,cmap='binary')\n",
    "        plt.streamplot(x1c,x3c,bfield[i][0,:,:].T,bfield[0][2,:,:].T, density = 1.5, color=np.log(mag_list[i][0,:,:].T**2+mag_list[0][2,:,:].T**2), cmap='inferno')\n",
    "        ax.text(0.3, 1.01, str(name)+ ' at time step ' +str(i), transform=ax.transAxes)\n",
    "        camera.snap()\n",
    "    plt.colorbar(format=ticker.FuncFormatter(fmt))\n",
    "    plt.annotate('max = '+np.format_float_scientific(bmin, precision=3, exp_digits=1), xy=(0.05, 0.95), xycoords='axes fraction', color = 'red')\n",
    "    plt.annotate('min = '+np.format_float_scientific(bmax, precision=3, exp_digits=1), xy=(0.05, 0.9), xycoords='axes fraction', color = 'red')\n",
    "    ani = camera.animate()\n",
    "    ani.save(working_directory+'/'+str(ani_name)+'.mp4')\n",
    "    plt.close()\n",
    "\n",
    "def animation_1D(x1c,data_list, log_flag, name, ani_name):\n",
    "    fig = plt.figure()\n",
    "    camera = Camera(fig)\n",
    "    ax = plt.axes()\n",
    "    j = 0\n",
    "    for i in data_list:\n",
    "        j+= 1\n",
    "        m = int(i.shape[1]/2)\n",
    "        if log_flag == 1:\n",
    "            plt.plot(x1c,np.log(i[:,m]), c = 'black')\n",
    "        else:\n",
    "            plt.plot(x1c,i[:,m],c='black')\n",
    "        ax.text(0.25, 1.01, str(name)+ ' at time step ' +str(j), transform=ax.transAxes)\n",
    "        camera.snap()\n",
    "    ani = camera.animate()\n",
    "    ani.save(working_directory+'/'+str(ani_name)+'.mp4')\n",
    "    plt.close()\n",
    "\n",
    "def code_helm(rho_list, T_list, abar_list, zbar_list, e_list, name, ani_name):\n",
    "    fig = plt.figure()\n",
    "    camera = Camera(fig)\n",
    "    ax = plt.axes()\n",
    "    helm_elist = helmeos_e(np.array(rho_list), np.array(T_list), np.array(abar_list), np.array(zbar_list))\n",
    "    for i in range(len(e_list)):\n",
    "        plt.scatter(T_list[i].flatten(), e_list[i].flatten(), color='black')\n",
    "        plt.scatter(T_list[i].flatten(), helm_elist[i].flatten(), facecolors='none', edgecolors='red')\n",
    "        ax.text(0.25, 1.01, str(name)+ ' at time step ' +str(i), transform=ax.transAxes)\n",
    "        camera.snap()\n",
    "    ani = camera.animate()\n",
    "    ani.save(working_directory+'/'+str(ani_name)+'.mp4')\n",
    "    plt.close()"
   ]
  },
  {
   "cell_type": "code",
   "execution_count": 7,
   "id": "e2e3d37b",
   "metadata": {},
   "outputs": [],
   "source": [
    "# Face value\n",
    "x1f = np.loadtxt(profile_directory+'/hydro_x1_fgrid.dat').T\n",
    "x3f = np.loadtxt(profile_directory+'/hydro_x3_fgrid.dat').T\n",
    "# Center value\n",
    "x1f = x1f [3:-3]*lencgs2code # Remove BC\n",
    "x1c = (x1f[1:]+x1f[:-1])/2 #mid pt\n",
    "x3f = x3f[3:-3]*lencgs2code # Remove BC\n",
    "x3c = (x3f[1:]+x3f[:-1])/2 #mid pt\n",
    "\n",
    "xx,yy= np.meshgrid(x1c,x3c,indexing='ij')\n",
    "\n",
    "xxf, yyf = np.meshgrid(x1f,x3f,indexing='ij')"
   ]
  },
  {
   "cell_type": "code",
   "execution_count": 8,
   "id": "a3e6be99",
   "metadata": {},
   "outputs": [],
   "source": [
    "# Initial Values\n",
    "irho = np.loadtxt(profile_directory+'/hydro_rho.dat').T*rhocgs2code\n",
    "ieps = np.loadtxt(profile_directory+'/hydro_eps.dat').T*energycgs2code\n",
    "ivz = np.loadtxt(profile_directory+'/hydro_vphi.dat').T\n",
    "iHe4 = np.loadtxt('/home/cnchong/Codes/cumc3d/model/Type_Ia/profile/Helm_Xhe4.dat').T\n",
    "iC12 = np.loadtxt('/home/cnchong/Codes/cumc3d/model/Type_Ia/profile/Helm_Xc12.dat').T\n",
    "iO16 = np.loadtxt('/home/cnchong/Codes/cumc3d/model/Type_Ia/profile/Helm_Xo16.dat').T\n",
    "iNe20 = np.loadtxt('/home/cnchong/Codes/cumc3d/model/Type_Ia/profile/Helm_Xne20.dat').T\n",
    "iMg24 = np.loadtxt('/home/cnchong/Codes/cumc3d/model/Type_Ia/profile/Helm_Xmg24.dat').T\n",
    "iSi28 = np.loadtxt('/home/cnchong/Codes/cumc3d/model/Type_Ia/profile/Helm_Xsi28.dat').T\n",
    "iNi56 = np.loadtxt('/home/cnchong/Codes/cumc3d/model/Type_Ia/profile/Helm_Xni56.dat').T"
   ]
  },
  {
   "cell_type": "code",
   "execution_count": 9,
   "id": "0ad9bde2",
   "metadata": {},
   "outputs": [
    {
     "name": "stdout",
     "output_type": "stream",
     "text": [
      "0.5313102157129986\n"
     ]
    }
   ],
   "source": [
    "# Free fall time  (cgs)\n",
    "ff_time = np.sqrt((3*np.pi)/(32*gconst*np.average(irho/rhocgs2code)))\n",
    "print(ff_time)"
   ]
  },
  {
   "cell_type": "code",
   "execution_count": null,
   "id": "0ce2f220",
   "metadata": {},
   "outputs": [
    {
     "data": {
      "application/x-hdf5": "/home/cnchong/Codes/cumc3d/model/Type_Ia/outfile/rkiter-0-nm.hdf5",
      "text/plain": [
       "<jupyterlab_h5web.widget.H5Web object>"
      ]
     },
     "metadata": {},
     "output_type": "display_data"
    }
   ],
   "source": [
    "filename = working_directory+\"/rkiter-0-nm.hdf5\"\n",
    "f = h5py.File(filename, \"r\")\n",
    "f.keys()\n",
    "H5Web(filename)\n"
   ]
  },
  {
   "cell_type": "code",
   "execution_count": 45,
   "id": "791c1d9f",
   "metadata": {},
   "outputs": [
    {
     "data": {
      "text/plain": [
       "<KeysViewHDF5 ['abar', 'bfield', 'coordinate', 'cs', 'dbdt', 'deton_state', 'dimension', 'epsilon', 'flame_state', 'nu_phi', 'phi', 'primitive', 'temp', 'time', 'x-interface', 'y-interface', 'z-interface', 'zbar']>"
      ]
     },
     "execution_count": 45,
     "metadata": {},
     "output_type": "execute_result"
    }
   ],
   "source": [
    "filename = working_directory+\"/rkiter-30-nm.hdf5\"\n",
    "f = h5py.File(filename, \"r\")\n",
    "f.keys()"
   ]
  },
  {
   "cell_type": "code",
   "execution_count": 11,
   "id": "ec41487c",
   "metadata": {},
   "outputs": [],
   "source": [
    "prim_list = []\n",
    "for i in range(n):\n",
    "    filename = working_directory+\"/rkiter-\"+str(i)+\"-nm.hdf5\"\n",
    "    f = h5py.File(filename, \"r\")\n",
    "    primitive = f['primitive'][:]\n",
    "    primitive = primitive.T\n",
    "    prim_list.append(primitive)\n",
    "    f.close()\n",
    "\n",
    "epsilon_list = []\n",
    "for i in range(n):\n",
    "    filename = working_directory+\"/rkiter-\"+str(i)+\"-nm.hdf5\"\n",
    "    f = h5py.File(filename, \"r\")\n",
    "    epsilon = f['epsilon'][:]\n",
    "    epsilon = epsilon.T\n",
    "    epsilon_list.append(epsilon)\n",
    "    f.close()\n",
    "\n",
    "temp_list = []\n",
    "for i in range(n):\n",
    "    filename = working_directory+\"/rkiter-\"+str(i)+\"-nm.hdf5\"\n",
    "    f = h5py.File(filename, \"r\")\n",
    "    temp = f['temp'][:]\n",
    "    temp = temp.T\n",
    "    temp_list.append(temp)\n",
    "    f.close()\n",
    "\n",
    "abar_list = []\n",
    "zbar_list = []\n",
    "for i in range(n):\n",
    "    filename = working_directory+\"/rkiter-\"+str(i)+\"-nm.hdf5\"\n",
    "    f = h5py.File(filename, \"r\")\n",
    "    abar = f['abar'][:]\n",
    "    abar = abar.T\n",
    "    abar_list.append(abar)\n",
    "    f.close()\n",
    "for i in range(n):\n",
    "    filename = working_directory+\"/rkiter-\"+str(i)+\"-nm.hdf5\"\n",
    "    f = h5py.File(filename, \"r\")\n",
    "    zbar = f['zbar'][:]\n",
    "    zbar = zbar.T\n",
    "    zbar_list.append(zbar)\n",
    "    f.close()\n",
    "\n",
    "cs_list = []\n",
    "for i in range(n):\n",
    "    filename = working_directory+\"/rkiter-\"+str(i)+\"-nm.hdf5\"\n",
    "    f = h5py.File(filename, \"r\")\n",
    "    cs = f['cs'][:]\n",
    "    cs = cs.T\n",
    "    cs_list.append(cs)\n",
    "    f.close()\n",
    "phi_list = []\n",
    "for i in range(n):\n",
    "    filename = working_directory+\"/rkiter-\"+str(i)+\"-nm.hdf5\"\n",
    "    f = h5py.File(filename, \"r\")\n",
    "    phi = f['phi'][:]\n",
    "    phi = phi.T\n",
    "    phi_list.append(phi)\n",
    "    f.close()\n",
    "\n"
   ]
  },
  {
   "cell_type": "code",
   "execution_count": 12,
   "id": "0046afc2",
   "metadata": {},
   "outputs": [],
   "source": [
    "mag_list = []\n",
    "for i in range(n):\n",
    "    filename = working_directory+\"/rkiter-\"+str(i)+\"-nm.hdf5\"\n",
    "    f = h5py.File(filename, \"r\")\n",
    "    mag = f['bfield'][2:-1,1,2:-1,:]\n",
    "    mag = mag.T\n",
    "    mag_list.append(mag)\n",
    "    f.close()\n",
    "\n",
    "b_list = []\n",
    "for i in range(n):\n",
    "    filename = working_directory+\"/rkiter-\"+str(i)+\"-nm.hdf5\"\n",
    "    f = h5py.File(filename, \"r\")\n",
    "    b = f['bfield'][:]\n",
    "    b = b.T\n",
    "    b_list.append(b)\n",
    "    f.close()\n",
    "\n",
    "dbdt_list = []\n",
    "for i in range(n):\n",
    "    filename = working_directory+\"/rkiter-\"+str(i)+\"-nm.hdf5\"\n",
    "    f = h5py.File(filename, \"r\")\n",
    "    dbdt = f['dbdt'][:]\n",
    "    dbdt = dbdt.T\n",
    "    dbdt_list.append(dbdt)\n",
    "    f.close()"
   ]
  },
  {
   "cell_type": "code",
   "execution_count": 13,
   "id": "e3f53489",
   "metadata": {},
   "outputs": [],
   "source": [
    "dx2 = np.diff(xxf[:,0]**2)\n",
    "dy = np.diff(yyf[0,:])\n",
    "dxx2,dyy = np.meshgrid(dx2,dy)\n",
    "vol = dxx2*dyy*np.pi\n",
    "mass_list = []\n",
    "maxden_list = []\n",
    "\n",
    "for prim in prim_list:\n",
    "    maxden = np.max(prim[0,1:-1,1,1:-1])\n",
    "    mass = np.sum(prim[0,1:-1,1,1:-1].T*vol)\n",
    "    mass_list.append(mass)\n",
    "    maxden_list.append(maxden)\n",
    "mass_arr = np.array(mass_list)\n",
    "\n",
    "energy_list = []\n",
    "for eps in epsilon_list:\n",
    "    energy = np.sum(eps[1:-1,1,1:-1].T*vol)\n",
    "    energy_list.append(energy)\n",
    "energy_arr = np.array(energy_list)\n",
    "\n",
    "toten_list = []\n",
    "turb_flag = 1\n",
    "\n",
    "inten_list = []\n",
    "ke_list = []\n",
    "magen_list = []\n",
    "turb_list = []\n",
    "phien_list = []\n",
    "for i in range(len(prim_list)):\n",
    "    inten = np.sum(epsilon_list[i][1:-1,1,1:-1].T*prim[0,1:-1,1,1:-1].T*vol)\n",
    "    v2 = prim_list[i][1,1:-1,1,1:-1]**2 + prim_list[i][2,1:-1,1,1:-1]**2 + prim_list[i][3,1:-1,1,1:-1]**2\n",
    "    ke = np.sum(prim_list[i][0,1:-1,1,1:-1].T*v2.T*vol)/2\n",
    "    mag = np.sum((mag_list[i][0,:,:]**2**2+mag_list[i][1,:,:]**2+mag_list[i][2,:,:]**2).T)/2\n",
    "    phien = np.sum(prim_list[i][0,1:-1,1,1:-1].T*phi_list[i][1:-1,1,1:-1].T*vol)/2\n",
    "    if turb_flag == 1:\n",
    "        turb_en = np.sum(prim_list[i][0,1:-1,1,1:-1].T*prim_list[i][5,1:-1,1,1:-1].T*vol)\n",
    "    else:\n",
    "        turb_en = 0\n",
    "    inten_list.append(inten)\n",
    "    ke_list.append(ke)\n",
    "    magen_list.append(mag)\n",
    "    turb_list.append(turb_en)\n",
    "    phien_list.append(phien)\n",
    "    toten_list.append(inten+ke+mag+turb_en+phien)"
   ]
  },
  {
   "cell_type": "code",
   "execution_count": 14,
   "id": "f412ccd9",
   "metadata": {},
   "outputs": [
    {
     "data": {
      "text/plain": [
       "Text(0.5, 0, 'Time Step')"
      ]
     },
     "execution_count": 14,
     "metadata": {},
     "output_type": "execute_result"
    },
    {
     "data": {
      "image/png": "[encoded data removed]",
      "text/plain": [
       "<Figure size 640x480 with 1 Axes>"
      ]
     },
     "metadata": {},
     "output_type": "display_data"
    }
   ],
   "source": [
    "plt.plot(maxden_list)\n",
    "plt.ylabel('Maximum Density')\n",
    "plt.xlabel('Time Step')"
   ]
  },
  {
   "cell_type": "code",
   "execution_count": 15,
   "id": "fdf7a72f",
   "metadata": {},
   "outputs": [
    {
     "data": {
      "text/plain": [
       "Text(0.5, 1.0, 'Mass')"
      ]
     },
     "execution_count": 15,
     "metadata": {},
     "output_type": "execute_result"
    },
    {
     "data": {
      "image/png": "[encoded data removed]",
      "text/plain": [
       "<Figure size 640x480 with 1 Axes>"
      ]
     },
     "metadata": {},
     "output_type": "display_data"
    }
   ],
   "source": [
    "plt.plot(mass_list)\n",
    "plt.title('Mass')"
   ]
  },
  {
   "cell_type": "code",
   "execution_count": 16,
   "id": "352e0bb6",
   "metadata": {},
   "outputs": [
    {
     "data": {
      "text/plain": [
       "<matplotlib.legend.Legend at 0x7fd3ad0a9fa0>"
      ]
     },
     "execution_count": 16,
     "metadata": {},
     "output_type": "execute_result"
    },
    {
     "data": {
      "image/png": "[encoded data removed]",
      "text/plain": [
       "<Figure size 640x480 with 1 Axes>"
      ]
     },
     "metadata": {},
     "output_type": "display_data"
    }
   ],
   "source": [
    "plt.plot(np.array(inten_list)/(masscgs2code*energycgs2code), label = 'internal energy')\n",
    "plt.plot(np.array(ke_list)/(masscgs2code*energycgs2code), label = 'kinetic energy')\n",
    "plt.plot(np.array(magen_list)/(masscgs2code*energycgs2code), label = 'magnetic energy')\n",
    "plt.plot(np.array(turb_list)/(masscgs2code*energycgs2code), linestyle='dashed', label = 'turbulence energy')\n",
    "plt.plot(np.array(phien_list)/(masscgs2code*energycgs2code), label = 'gravity PE')\n",
    "plt.plot((np.array(toten_list)-np.array(phien_list))/(masscgs2code*energycgs2code), label = 'total energy - gravity')\n",
    "plt.yscale('log')\n",
    "plt.xscale('log')\n",
    "plt.title('Energy against time')\n",
    "plt.xlabel('step')\n",
    "plt.ylabel('erg')\n",
    "plt.legend()"
   ]
  },
  {
   "cell_type": "code",
   "execution_count": 17,
   "id": "48e33314",
   "metadata": {},
   "outputs": [
    {
     "data": {
      "text/plain": [
       "[<matplotlib.lines.Line2D at 0x7fd3ac670c20>]"
      ]
     },
     "execution_count": 17,
     "metadata": {},
     "output_type": "execute_result"
    },
    {
     "data": {
      "image/png": "[encoded data removed]",
      "text/plain": [
       "<Figure size 640x480 with 1 Axes>"
      ]
     },
     "metadata": {},
     "output_type": "display_data"
    }
   ],
   "source": [
    "plt.plot((np.array(toten_list)-np.array(phien_list))/energycgs2code, label = 'total energy - gravity')"
   ]
  },
  {
   "cell_type": "code",
   "execution_count": 27,
   "id": "d88b9492",
   "metadata": {},
   "outputs": [
    {
     "name": "stdout",
     "output_type": "stream",
     "text": [
      "-23.025850929940457\n",
      "-12.081906013251439\n"
     ]
    }
   ],
   "source": [
    "any_list = []\n",
    "for i in range(len(prim_list)):\n",
    "    any_list.append(prim_list[i][5,1:-1,1,1:-1])\n",
    "easy_animation(xxf,yyf,np.log(np.array(any_list)),'log_turbq', 'log_turbq')\n",
    "# animation_1D(x1c,C_list, 1, 'C', 'eq_logC')"
   ]
  },
  {
   "cell_type": "code",
   "execution_count": 28,
   "id": "0aabb037",
   "metadata": {},
   "outputs": [],
   "source": [
    "# scaG1_list = []\n",
    "# for i in range(len(prim_list)):\n",
    "#     scaG1_list.append(prim_list[i][14,1:-1,1,1:-1])\n",
    "# easy_animation(xxf,yyf,np.log(np.array(scaG1_list)),'log_scaG1', 'log_scaG1')\n",
    "# animation_1D(x1c,scaG1_list, 0, 'scaG1', 'eq_scaG1')"
   ]
  },
  {
   "cell_type": "code",
   "execution_count": 29,
   "id": "0d522ef0",
   "metadata": {},
   "outputs": [],
   "source": [
    "# scaG2_list = []\n",
    "# for i in range(len(prim_list)):\n",
    "#     scaG2_list.append(prim_list[i][15,1:-1,1,1:-1])\n",
    "# easy_animation(xxf,yyf,np.log(np.array(scaG2_list)),'log_scaG2', 'log_scaG2')\n",
    "# animation_1D(x1c,scaG2_list, 0, 'scaG2', 'eq_scaG2')"
   ]
  },
  {
   "cell_type": "code",
   "execution_count": 30,
   "id": "9213b93b",
   "metadata": {},
   "outputs": [
    {
     "name": "stdout",
     "output_type": "stream",
     "text": [
      "-32.61439945650955\n",
      "-18.05184586375479\n"
     ]
    }
   ],
   "source": [
    "dens_list = []\n",
    "for i in range(len(prim_list)):\n",
    "    dens_list.append(prim_list[i][0,1:-1,1,1:-1])\n",
    "easy_animation(xxf,yyf,np.array(np.log(dens_list)), 'log_rho', 'log_rho')\n",
    "# easy_animation_levelset(xx,yy,xxf,yyf,np.array(np.log(dens_list)),scaG1_list,'log_rho', 'log_rho')"
   ]
  },
  {
   "cell_type": "code",
   "execution_count": 31,
   "id": "bd33d5a8",
   "metadata": {},
   "outputs": [],
   "source": [
    "animation_1D(x1c,dens_list, 1, 'Log equatorial density', 'eq_dens')"
   ]
  },
  {
   "cell_type": "code",
   "execution_count": 32,
   "id": "f167be39",
   "metadata": {},
   "outputs": [
    {
     "name": "stdout",
     "output_type": "stream",
     "text": [
      "-9.210340371976182\n",
      "2.4596350269658984\n"
     ]
    }
   ],
   "source": [
    "temp_anilist = []\n",
    "for i in range(len(temp_list)):\n",
    "    temp_anilist.append(temp_list[i][1:-1,1, 1:-1])\n",
    "easy_animation(xx,yy,np.log(np.array(temp_anilist)), 'log_temp', 'log_temp')\n",
    "# easy_animation_levelset(xx,yy,xxf,yyf,np.log(np.array(temp_anilist)),scaG1_list,'log_temp', 'log_temp')"
   ]
  },
  {
   "cell_type": "code",
   "execution_count": 33,
   "id": "ce607fbf",
   "metadata": {},
   "outputs": [],
   "source": [
    "animation_1D(x1c,temp_anilist, 1, 'equatorial temp', 'eq_temp')"
   ]
  },
  {
   "cell_type": "code",
   "execution_count": 34,
   "id": "377a0a05",
   "metadata": {},
   "outputs": [
    {
     "name": "stdout",
     "output_type": "stream",
     "text": [
      "-12.216129515508223\n",
      "-5.50138692931716\n"
     ]
    }
   ],
   "source": [
    "eps_anilist = []\n",
    "for i in range(len(epsilon_list)):\n",
    "    eps_anilist.append(epsilon_list[i][1:-1,1, 1:-1])\n",
    "easy_animation(xxf,yyf,np.log(np.array(eps_anilist)),'log_eps', 'log_eps')\n",
    "# easy_animation_levelset(xx,yy,xxf,yyf,np.log(np.array(eps_anilist)), scaG1_list,'log_eps', 'log_eps')"
   ]
  },
  {
   "cell_type": "code",
   "execution_count": 35,
   "id": "748690a7",
   "metadata": {},
   "outputs": [],
   "source": [
    "animation_1D(x1c,eps_anilist, 1, 'log equatorial eps', 'eq_eps')"
   ]
  },
  {
   "cell_type": "code",
   "execution_count": 36,
   "id": "ae425666",
   "metadata": {},
   "outputs": [
    {
     "name": "stdout",
     "output_type": "stream",
     "text": [
      "4.025682065401655\n",
      "56.0\n",
      "2.0128410327008277\n",
      "28.0\n"
     ]
    }
   ],
   "source": [
    "abar_anilist = []\n",
    "for i in range(len(abar_list)):\n",
    "    abar_anilist.append(abar_list[i][1:-1,1, 1:-1])\n",
    "animation_1D(x1c,abar_anilist, 0, 'equatorial abar', 'eq_abar')\n",
    "easy_animation(xx,yy,abar_anilist, 'abar', 'abar')\n",
    "# easy_animation_levelset(xx,yy,xxf,yyf,abar_anilist,scaG1_list, 'abar', 'abar')\n",
    "zbar_anilist = []\n",
    "for i in range(len(zbar_list)):\n",
    "    zbar_anilist.append(zbar_list[i][1:-1,1, 1:-1])\n",
    "animation_1D(x1c,zbar_anilist, 0, 'equatorial zbar', 'eq_zbar')\n",
    "easy_animation(xx,yy,zbar_anilist, 'zbar', 'zbar')\n",
    "# easy_animation_levelset(xx,yy,xxf,yyf,zbar_anilist,scaG1_list, 'zbar', 'zbar')"
   ]
  },
  {
   "cell_type": "code",
   "execution_count": 37,
   "id": "b7df90f5",
   "metadata": {},
   "outputs": [
    {
     "name": "stdout",
     "output_type": "stream",
     "text": [
      "2.294099639271088e-20\n",
      "1.8735810088842554e-11\n"
     ]
    }
   ],
   "source": [
    "tau_list = []\n",
    "for i in range(len(prim_list)):\n",
    "    tau_list.append(prim_list[i][4,1:-1,1,1:-1])\n",
    "easy_animation(xx,yy,np.array(tau_list), 'tau', 'tau')\n",
    "# easy_animation_levelset(xx,yy,xxf,yyf,np.array(tau_list), scaG1_list,'tau', 'tau')"
   ]
  },
  {
   "cell_type": "code",
   "execution_count": 38,
   "id": "6a34cd74",
   "metadata": {},
   "outputs": [
    {
     "name": "stdout",
     "output_type": "stream",
     "text": [
      "-0.08662339741324962\n",
      "0.07779869924928914\n"
     ]
    }
   ],
   "source": [
    "vz_list = []\n",
    "for i in range(len(prim_list)):\n",
    "    vz_list.append(prim_list[i][3,1:-1,1,1:-1])\n",
    "easy_animation(xxf,yyf,np.array(vz_list), 'vz', 'vz')"
   ]
  },
  {
   "cell_type": "code",
   "execution_count": 39,
   "id": "4ca5a119",
   "metadata": {},
   "outputs": [
    {
     "name": "stdout",
     "output_type": "stream",
     "text": [
      "-0.030955802080728158\n",
      "0.10043951854869888\n"
     ]
    }
   ],
   "source": [
    "vx_list = []\n",
    "for i in range(len(prim_list)):\n",
    "    vx_list.append(prim_list[i][1,1:-1,1,1:-1])\n",
    "easy_animation(xxf,yyf,np.array(vx_list), 'vx', 'vx')\n",
    "animation_1D(x1c,vx_list, 0, 'equatorial vx', 'eq_vx')"
   ]
  },
  {
   "cell_type": "code",
   "execution_count": 40,
   "id": "17aed642",
   "metadata": {},
   "outputs": [
    {
     "name": "stdout",
     "output_type": "stream",
     "text": [
      "-0.0002155517271150428\n",
      "0.021131384900921403\n"
     ]
    }
   ],
   "source": [
    "vy_list = []\n",
    "for i in range(len(prim_list)):\n",
    "    vy_list.append(prim_list[i][2,1:-1,1,1:-1])\n",
    "easy_animation(xxf,yyf,np.array(vy_list), 'vy', 'vy')\n",
    "animation_1D(x1c,vy_list, 0, 'equatorial vy', 'eq_vy')"
   ]
  },
  {
   "cell_type": "code",
   "execution_count": 41,
   "id": "a7534d1f",
   "metadata": {},
   "outputs": [
    {
     "name": "stdout",
     "output_type": "stream",
     "text": [
      "-32.61439945650955\n",
      "-18.05184586375479\n",
      "0.0\n",
      "457326594.4394876\n"
     ]
    }
   ],
   "source": [
    "easy_animation_bfield(x1c,x3c,xxf,yyf,np.log(dens_list), mag_list, 'poloidal_field', 'poloidal_field')\n",
    "easy_animation(xxf, yyf, np.array(mag_list)[:,1,:,:]**2/(np.array(mag_list)[:,0,:,:]**2 + np.array(mag_list)[:,2,:,:]**2), 'tp_ratio', 'tp_ratio')"
   ]
  },
  {
   "cell_type": "code",
   "execution_count": 42,
   "id": "a88ff510",
   "metadata": {},
   "outputs": [
    {
     "name": "stdout",
     "output_type": "stream",
     "text": [
      "0.0\n",
      "2.456513270422625e-17\n",
      "3.1510505915141277e-29\n",
      "1.8752926690737107e-18\n"
     ]
    }
   ],
   "source": [
    "easy_animation(xxf, yyf, np.array(mag_list)[:,1,:,:]**2, 'toroidal', 'toroidal')\n",
    "easy_animation(xxf, yyf, (np.array(mag_list)[:,0,:,:]**2 + np.array(mag_list)[:,2,:,:]**2), 'poloidal', 'poloidal')"
   ]
  },
  {
   "cell_type": "code",
   "execution_count": null,
   "id": "eaaea14b",
   "metadata": {},
   "outputs": [],
   "source": []
  },
  {
   "cell_type": "code",
   "execution_count": 43,
   "id": "17103f0e",
   "metadata": {},
   "outputs": [
    {
     "name": "stdout",
     "output_type": "stream",
     "text": [
      "Initializing Helmholtz EOS table /home/cnchong/miniconda3/envs/Rotating_WD/lib/python3.12/site-packages/helmeos/helm_table.dat\n"
     ]
    },
    {
     "ename": "FileNotFoundError",
     "evalue": "[Errno 2] No such file or directory: '/home/cnchong/miniconda3/envs/Rotating_WD/lib/python3.12/site-packages/helmeos/helm_table.dat'",
     "output_type": "error",
     "traceback": [
      "\u001b[0;31m---------------------------------------------------------------------------\u001b[0m",
      "\u001b[0;31mFileNotFoundError\u001b[0m                         Traceback (most recent call last)",
      "Cell \u001b[0;32mIn[43], line 6\u001b[0m\n\u001b[1;32m      3\u001b[0m helmeos_cslist \u001b[38;5;241m=\u001b[39m []\n\u001b[1;32m      5\u001b[0m \u001b[38;5;28;01mfor\u001b[39;00m t \u001b[38;5;129;01min\u001b[39;00m \u001b[38;5;28mrange\u001b[39m(\u001b[38;5;28mlen\u001b[39m(dens_list)):\n\u001b[0;32m----> 6\u001b[0m     helmeos_pmat \u001b[38;5;241m=\u001b[39m helmeos_p(dens_list[t], temp_anilist[t], abar_anilist[t], zbar_anilist[t])\n\u001b[1;32m      7\u001b[0m     helmeos_emat \u001b[38;5;241m=\u001b[39m helmeos_e(dens_list[t], temp_anilist[t], abar_anilist[t], zbar_anilist[t])\n\u001b[1;32m      8\u001b[0m     helmeos_csmat \u001b[38;5;241m=\u001b[39m helmeos_cs(dens_list[t], temp_anilist[t], abar_anilist[t], zbar_anilist[t])\n",
      "Cell \u001b[0;32mIn[5], line 9\u001b[0m, in \u001b[0;36mhelmeos_p\u001b[0;34m(dens, temp, abar, zbar)\u001b[0m\n\u001b[1;32m      7\u001b[0m dens \u001b[38;5;241m=\u001b[39m dens\u001b[38;5;241m/\u001b[39mrhocgs2code\n\u001b[1;32m      8\u001b[0m temp \u001b[38;5;241m=\u001b[39m temp\u001b[38;5;241m*\u001b[39m\u001b[38;5;241m1e9\u001b[39m\n\u001b[0;32m----> 9\u001b[0m out \u001b[38;5;241m=\u001b[39m helmeos\u001b[38;5;241m.\u001b[39meos_DT(dens, temp, abar, zbar)\n\u001b[1;32m     10\u001b[0m \u001b[38;5;28;01mreturn\u001b[39;00m out[\u001b[38;5;124m'\u001b[39m\u001b[38;5;124mptot\u001b[39m\u001b[38;5;124m'\u001b[39m]\u001b[38;5;241m*\u001b[39m(masscgs2code\u001b[38;5;241m*\u001b[39menergycgs2code\u001b[38;5;241m/\u001b[39mlencgs2code\u001b[38;5;241m*\u001b[39m\u001b[38;5;241m*\u001b[39m\u001b[38;5;241m3\u001b[39m)\n",
      "File \u001b[0;32m~/miniconda3/envs/Rotating_WD/lib/python3.12/site-packages/helmeos/__init__.py:9\u001b[0m, in \u001b[0;36meos_DT\u001b[0;34m(den, temp, abar, zbar, outvar)\u001b[0m\n\u001b[1;32m      8\u001b[0m \u001b[38;5;28;01mdef\u001b[39;00m \u001b[38;5;21meos_DT\u001b[39m(den, temp, abar, zbar, outvar\u001b[38;5;241m=\u001b[39m\u001b[38;5;28;01mNone\u001b[39;00m):\n\u001b[0;32m----> 9\u001b[0m     \u001b[38;5;28;01mreturn\u001b[39;00m default\u001b[38;5;241m.\u001b[39meos_DT(den, temp, abar, zbar, outvar\u001b[38;5;241m=\u001b[39moutvar)\n",
      "File \u001b[0;32m~/miniconda3/envs/Rotating_WD/lib/python3.12/site-packages/helmeos/helm_table.py:890\u001b[0m, in \u001b[0;36m_DelayedTable.wrapped_func.<locals>.out\u001b[0;34m(*args, **kw)\u001b[0m\n\u001b[1;32m    889\u001b[0m \u001b[38;5;28;01mdef\u001b[39;00m \u001b[38;5;21mout\u001b[39m(\u001b[38;5;241m*\u001b[39margs, \u001b[38;5;241m*\u001b[39m\u001b[38;5;241m*\u001b[39mkw):\n\u001b[0;32m--> 890\u001b[0m     \u001b[38;5;28mself\u001b[39m\u001b[38;5;241m.\u001b[39mload()\n\u001b[1;32m    891\u001b[0m     func \u001b[38;5;241m=\u001b[39m \u001b[38;5;28mgetattr\u001b[39m(\u001b[38;5;28mself\u001b[39m, name)\n\u001b[1;32m    892\u001b[0m     \u001b[38;5;28;01mreturn\u001b[39;00m func(\u001b[38;5;241m*\u001b[39margs, \u001b[38;5;241m*\u001b[39m\u001b[38;5;241m*\u001b[39mkw)\n",
      "File \u001b[0;32m~/miniconda3/envs/Rotating_WD/lib/python3.12/site-packages/helmeos/helm_table.py:885\u001b[0m, in \u001b[0;36m_DelayedTable.load\u001b[0;34m(self)\u001b[0m\n\u001b[1;32m    883\u001b[0m \u001b[38;5;28;01mif\u001b[39;00m \u001b[38;5;129;01mnot\u001b[39;00m \u001b[38;5;28mself\u001b[39m\u001b[38;5;241m.\u001b[39m_silent:\n\u001b[1;32m    884\u001b[0m     \u001b[38;5;28mprint\u001b[39m(\u001b[38;5;124m'\u001b[39m\u001b[38;5;124mInitializing Helmholtz EOS table \u001b[39m\u001b[38;5;124m'\u001b[39m \u001b[38;5;241m+\u001b[39m \u001b[38;5;28mstr\u001b[39m(\u001b[38;5;28mself\u001b[39m\u001b[38;5;241m.\u001b[39m_kwargs[\u001b[38;5;124m'\u001b[39m\u001b[38;5;124mfn\u001b[39m\u001b[38;5;124m'\u001b[39m]))\n\u001b[0;32m--> 885\u001b[0m \u001b[38;5;28mself\u001b[39m\u001b[38;5;241m.\u001b[39m_loader(\u001b[38;5;28mself\u001b[39m, \u001b[38;5;241m*\u001b[39m\u001b[38;5;241m*\u001b[39m\u001b[38;5;28mself\u001b[39m\u001b[38;5;241m.\u001b[39m_kwargs)\n\u001b[1;32m    886\u001b[0m \u001b[38;5;28mself\u001b[39m\u001b[38;5;241m.\u001b[39minitB \u001b[38;5;241m=\u001b[39m \u001b[38;5;28;01mTrue\u001b[39;00m\n",
      "File \u001b[0;32m~/miniconda3/envs/Rotating_WD/lib/python3.12/site-packages/helmeos/helm_table.py:54\u001b[0m, in \u001b[0;36mHelmTable.__init__\u001b[0;34m(self, fn, temp_n, temp_log_min, temp_log_max, dens_n, dens_log_min, dens_log_max)\u001b[0m\n\u001b[1;32m     51\u001b[0m dhi \u001b[38;5;241m=\u001b[39m dens_log_max\n\u001b[1;32m     53\u001b[0m \u001b[38;5;66;03m# load data from file\u001b[39;00m\n\u001b[0;32m---> 54\u001b[0m \u001b[38;5;28;01mwith\u001b[39;00m \u001b[38;5;28mopen\u001b[39m(fn) \u001b[38;5;28;01mas\u001b[39;00m f:\n\u001b[1;32m     55\u001b[0m     \u001b[38;5;66;03m# read the helmholtz free energy and its derivatives\u001b[39;00m\n\u001b[1;32m     56\u001b[0m     col9 \u001b[38;5;241m=\u001b[39m np\u001b[38;5;241m.\u001b[39mgenfromtxt(f, delimiter\u001b[38;5;241m=\u001b[39m\u001b[38;5;124m'\u001b[39m\u001b[38;5;124m  \u001b[39m\u001b[38;5;124m'\u001b[39m, max_rows\u001b[38;5;241m=\u001b[39mjmax \u001b[38;5;241m*\u001b[39m imax)\n\u001b[1;32m     57\u001b[0m     col9 \u001b[38;5;241m=\u001b[39m np\u001b[38;5;241m.\u001b[39mswapaxes(col9\u001b[38;5;241m.\u001b[39mreshape((jmax, imax, \u001b[38;5;241m9\u001b[39m)), \u001b[38;5;241m0\u001b[39m, \u001b[38;5;241m1\u001b[39m)\n",
      "\u001b[0;31mFileNotFoundError\u001b[0m: [Errno 2] No such file or directory: '/home/cnchong/miniconda3/envs/Rotating_WD/lib/python3.12/site-packages/helmeos/helm_table.dat'"
     ]
    }
   ],
   "source": [
    "helmeos_plist = []\n",
    "helmeos_elist = []\n",
    "helmeos_cslist = []\n",
    "\n",
    "for t in range(len(dens_list)):\n",
    "    helmeos_pmat = helmeos_p(dens_list[t], temp_anilist[t], abar_anilist[t], zbar_anilist[t])\n",
    "    helmeos_emat = helmeos_e(dens_list[t], temp_anilist[t], abar_anilist[t], zbar_anilist[t])\n",
    "    helmeos_csmat = helmeos_cs(dens_list[t], temp_anilist[t], abar_anilist[t], zbar_anilist[t])\n",
    "    helmeos_plist.append(helmeos_pmat)\n",
    "    helmeos_elist.append(helmeos_emat)\n",
    "    helmeos_cslist.append(helmeos_csmat)\n"
   ]
  },
  {
   "cell_type": "code",
   "execution_count": null,
   "id": "a14c1350",
   "metadata": {},
   "outputs": [],
   "source": [
    "easy_animation(xx,yy,np.log(np.abs((np.array(tau_list)-np.array(helmeos_plist))/np.array(helmeos_plist))), 'pressure deviation from helmeos','dp_fh')\n",
    "easy_animation(xx,yy,np.log(np.abs((np.array(eps_anilist)-np.array(helmeos_elist))/np.array(helmeos_elist))), 'energy deviation from helmeos','de_fh')"
   ]
  },
  {
   "cell_type": "code",
   "execution_count": null,
   "id": "ed40879c",
   "metadata": {},
   "outputs": [],
   "source": [
    "t = 9\n",
    "min_arg = np.argwhere(temp_anilist[t] == 1e-4)\n",
    "dummy0 = []\n",
    "dummy1 = []\n",
    "dummy2 = []\n",
    "for i in min_arg:\n",
    "    dummy0.append(helmeos_elist[t][i[0],i[1]])\n",
    "    dummy1.append(eps_anilist[t][i[0],i[1]])\n",
    "    dummy2.append(dens_list[t][i[0],i[1]])\n",
    "plt.scatter(dummy2, dummy1, label='code')\n",
    "plt.scatter(dummy2, dummy0, color='red', label='helmeos')\n",
    "plt.legend()"
   ]
  },
  {
   "cell_type": "code",
   "execution_count": null,
   "id": "276595f1",
   "metadata": {},
   "outputs": [],
   "source": [
    "fig = plt.figure()\n",
    "ax = plt.axes(projection='3d')\n",
    "ax.scatter(dens_list[t].flatten(),temp_anilist[t].flatten(), eps_anilist[t].flatten())\n",
    "ax.scatter(dens_list[t],temp_anilist[t], helmeos_elist[t],color='red')"
   ]
  },
  {
   "cell_type": "code",
   "execution_count": null,
   "id": "e95e2055",
   "metadata": {},
   "outputs": [],
   "source": [
    "code_helm(dens_list, temp_anilist, abar_anilist, zbar_anilist, eps_anilist, 'eT', 'eT')"
   ]
  },
  {
   "cell_type": "code",
   "execution_count": null,
   "id": "4019374a",
   "metadata": {},
   "outputs": [],
   "source": [
    "plt.imshow(temp_anilist[t].T,cmap='inferno')\n",
    "plt.colorbar()"
   ]
  },
  {
   "cell_type": "code",
   "execution_count": null,
   "id": "e73f55c9",
   "metadata": {},
   "outputs": [],
   "source": [
    "plt.imshow(np.log(np.abs((np.array(eps_anilist[t])-np.array(helmeos_elist[t]))/np.array(helmeos_elist[t]))).T, cmap='inferno')\n",
    "plt.colorbar()"
   ]
  }
 ],
 "metadata": {
  "kernelspec": {
   "display_name": "Python 3 (ipykernel)",
   "language": "python",
   "name": "python3"
  },
  "language_info": {
   "codemirror_mode": {
    "name": "ipython",
    "version": 3
   },
   "file_extension": ".py",
   "mimetype": "text/x-python",
   "name": "python",
   "nbconvert_exporter": "python",
   "pygments_lexer": "ipython3",
   "version": "3.12.5"
  }
 },
 "nbformat": 4,
 "nbformat_minor": 5
}
